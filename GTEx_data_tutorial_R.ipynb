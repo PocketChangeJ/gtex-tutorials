{
 "cells": [
  {
   "cell_type": "markdown",
   "metadata": {},
   "source": [
    "## Overview of GTEx Resources: working with gene expression, eQTL, and metadata files\n",
    "\n",
    "\n",
    "This notebook illustrates how to parse the GTEx data tables and resources available from the [GTEx Portal](https://gtexportal.org), including:\n",
    "* Sample and subject attributes\n",
    "* Expression tables\n",
    "* eQTL results\n",
    "\n",
    "All examples use data from the V7 release.\n",
    "\n",
    "#### Pre-requisites\n",
    "\n",
    "**_For the online version of this notebook, all datasets used in the examples are available to the notebook, and no additional files are required._**\n",
    "\n",
    "To run the notebook elsewhere, the following files are needed (all are available from the [downloads](https://gtexportal.org/home/datasets) section of the portal):\n",
    "* GTEx_v7_Annotations_SampleAttributesDS.txt\n",
    "* GTEx_v7_Annotations_SubjectPhenotypesDS.txt\n",
    "* GTEx_Analysis_2016-01-15_v7_RNASeQCv1.1.8_gene_tpm.gct.gz\n",
    "* GTEx_Analysis_v7_eQTL.tar.gz\n",
    "\n",
    "Uncompress GTEx_Analysis_v7_eQTL.tar.gz, and make sure that the contents of the resulting GTEx_Analysis_v7_eQTL directory are in the same location as the other files. In the code below, it is assumed that all data is stored in a `data` directory, at the same level as this notebook.\n",
    "\n",
    "#### R environment\n",
    "Run the following import statements to set up the environment. The `hashmap` package must be installed."
   ]
  },
  {
   "cell_type": "code",
   "execution_count": 1,
   "metadata": {},
   "outputs": [],
   "source": [
    "library(hashmap)"
   ]
  },
  {
   "cell_type": "markdown",
   "metadata": {},
   "source": [
    "### Selecting samples and subsets of the data\n",
    "\n",
    "To begin, we will explore the sample and subject annotations. Load the two tables:"
   ]
  },
  {
   "cell_type": "code",
   "execution_count": 2,
   "metadata": {},
   "outputs": [],
   "source": [
    "sample.df <- read.delim(\"data/GTEx_v7_Annotations_SampleAttributesDS.txt\", as.is=TRUE, header=TRUE, row.names=1)\n",
    "subject.df <- read.delim('data/GTEx_v7_Annotations_SubjectPhenotypesDS.txt', as.is=TRUE, header=TRUE, row.names=1)"
   ]
  },
  {
   "cell_type": "markdown",
   "metadata": {},
   "source": [
    "Explanations for each column header can be found in the dictionary spreadsheets:<br>\n",
    "[GTEx_Analysis_v7_Annotations_SubjectPhenotypesDD.xlsx](data/GTEx_Analysis_v7_Annotations_SubjectPhenotypesDD.xlsx)<br>\n",
    "[GTEx_Analysis_v7_Annotations_SampleAttributesDD.xlsx](data/GTEx_Analysis_v7_Annotations_SampleAttributesDD.xlsx)\n",
    "\n",
    "#### Subject attributes\n",
    "\n",
    "To view the first few rows of the subject attributes, run:"
   ]
  },
  {
   "cell_type": "code",
   "execution_count": 3,
   "metadata": {},
   "outputs": [
    {
     "data": {
      "text/html": [
       "<table>\n",
       "<thead><tr><th></th><th scope=col>SEX</th><th scope=col>AGE</th><th scope=col>DTHHRDY</th></tr></thead>\n",
       "<tbody>\n",
       "\t<tr><th scope=row>GTEX-1117F</th><td>2    </td><td>60-69</td><td>4    </td></tr>\n",
       "\t<tr><th scope=row>GTEX-111CU</th><td>1    </td><td>50-59</td><td>0    </td></tr>\n",
       "\t<tr><th scope=row>GTEX-111FC</th><td>1    </td><td>60-69</td><td>1    </td></tr>\n",
       "\t<tr><th scope=row>GTEX-111VG</th><td>1    </td><td>60-69</td><td>3    </td></tr>\n",
       "\t<tr><th scope=row>GTEX-111YS</th><td>1    </td><td>60-69</td><td>0    </td></tr>\n",
       "\t<tr><th scope=row>GTEX-1122O</th><td>2    </td><td>60-69</td><td>0    </td></tr>\n",
       "</tbody>\n",
       "</table>\n"
      ],
      "text/latex": [
       "\\begin{tabular}{r|lll}\n",
       "  & SEX & AGE & DTHHRDY\\\\\n",
       "\\hline\n",
       "\tGTEX-1117F & 2     & 60-69 & 4    \\\\\n",
       "\tGTEX-111CU & 1     & 50-59 & 0    \\\\\n",
       "\tGTEX-111FC & 1     & 60-69 & 1    \\\\\n",
       "\tGTEX-111VG & 1     & 60-69 & 3    \\\\\n",
       "\tGTEX-111YS & 1     & 60-69 & 0    \\\\\n",
       "\tGTEX-1122O & 2     & 60-69 & 0    \\\\\n",
       "\\end{tabular}\n"
      ],
      "text/markdown": [
       "\n",
       "| <!--/--> | SEX | AGE | DTHHRDY | \n",
       "|---|---|---|---|---|---|\n",
       "| GTEX-1117F | 2     | 60-69 | 4     | \n",
       "| GTEX-111CU | 1     | 50-59 | 0     | \n",
       "| GTEX-111FC | 1     | 60-69 | 1     | \n",
       "| GTEX-111VG | 1     | 60-69 | 3     | \n",
       "| GTEX-111YS | 1     | 60-69 | 0     | \n",
       "| GTEX-1122O | 2     | 60-69 | 0     | \n",
       "\n",
       "\n"
      ],
      "text/plain": [
       "           SEX AGE   DTHHRDY\n",
       "GTEX-1117F 2   60-69 4      \n",
       "GTEX-111CU 1   50-59 0      \n",
       "GTEX-111FC 1   60-69 1      \n",
       "GTEX-111VG 1   60-69 3      \n",
       "GTEX-111YS 1   60-69 0      \n",
       "GTEX-1122O 2   60-69 0      "
      ]
     },
     "metadata": {},
     "output_type": "display_data"
    }
   ],
   "source": [
    "head(subject.df)"
   ]
  },
  {
   "cell_type": "markdown",
   "metadata": {},
   "source": [
    "The `DTHHRDY` column encodes the death classification based on the 4-point _Hardy Scale_. The coding corresponds to the following categories:<br>\n",
    "0: Ventilator Case; 1: Violent and fast death; 2: Fast death of natural causes; 3: Intermediate death; 4: Slow death\n",
    "\n",
    "For additional details on the subject attributes, see [GTEx_Analysis_v7_Annotations_SubjectPhenotypesDD.xlsx](data/GTEx_Analysis_v7_Annotations_SubjectPhenotypesDD.xlsx).\n",
    "\n",
    "_Note that the attribute tables from the GTEx Portal contain open-access data only; protected information (e.g., exact donor age, phenotypic information, etc.) is available from dbGaP._ Consequently, only age ranges are provided here.\n",
    "\n",
    "#### Sample attributes\n",
    "\n",
    "The sample attributes file contains information on all samples in the GTEx resource, including RNA-seq samples and whole genome sequence (WGS) samples."
   ]
  },
  {
   "cell_type": "code",
   "execution_count": 4,
   "metadata": {},
   "outputs": [
    {
     "data": {
      "text/html": [
       "<table>\n",
       "<thead><tr><th></th><th scope=col>SMATSSCR</th><th scope=col>SMCENTER</th><th scope=col>SMPTHNTS</th><th scope=col>SMRIN</th><th scope=col>SMTS</th><th scope=col>SMTSD</th><th scope=col>SMUBRID</th><th scope=col>SMTSISCH</th><th scope=col>SMTSPAX</th><th scope=col>SMNABTCH</th><th scope=col>...</th><th scope=col>SME1ANTI</th><th scope=col>SMSPLTRD</th><th scope=col>SMBSMMRT</th><th scope=col>SME1SNSE</th><th scope=col>SME1PCTS</th><th scope=col>SMRRNART</th><th scope=col>SME1MPRT</th><th scope=col>SMNUM5CD</th><th scope=col>SMDPMPRT</th><th scope=col>SME2PCTS</th></tr></thead>\n",
       "<tbody>\n",
       "\t<tr><th scope=row>GTEX-1117F-0003-SM-58Q7G</th><td>NA                                                         </td><td>B1                                                         </td><td>                                                           </td><td> NA                                                        </td><td>Blood                                                      </td><td>Whole Blood                                                </td><td>0013756                                                    </td><td>1188                                                       </td><td>  NA                                                       </td><td>BP-38516                                                   </td><td>...                                                        </td><td>      NA                                                   </td><td>      NA                                                   </td><td>         NA                                                </td><td>      NA                                                   </td><td>      NA                                                   </td><td>         NA                                                </td><td>       NA                                                  </td><td>NA                                                         </td><td>NA                                                         </td><td>      NA                                                   </td></tr>\n",
       "\t<tr><th scope=row>GTEX-1117F-0003-SM-5DWSB</th><td>NA                                                         </td><td>B1                                                         </td><td>                                                           </td><td> NA                                                        </td><td>Blood                                                      </td><td>Whole Blood                                                </td><td>0013756                                                    </td><td>1188                                                       </td><td>  NA                                                       </td><td>BP-38516                                                   </td><td>...                                                        </td><td>      NA                                                   </td><td>      NA                                                   </td><td>         NA                                                </td><td>      NA                                                   </td><td>      NA                                                   </td><td>         NA                                                </td><td>       NA                                                  </td><td>NA                                                         </td><td>NA                                                         </td><td>      NA                                                   </td></tr>\n",
       "\t<tr><th scope=row>GTEX-1117F-0003-SM-6WBT7</th><td>NA                                                         </td><td>B1                                                         </td><td>                                                           </td><td> NA                                                        </td><td>Blood                                                      </td><td>Whole Blood                                                </td><td>0013756                                                    </td><td>1188                                                       </td><td>  NA                                                       </td><td>BP-38543                                                   </td><td>...                                                        </td><td>      NA                                                   </td><td>      NA                                                   </td><td>         NA                                                </td><td>      NA                                                   </td><td>      NA                                                   </td><td>         NA                                                </td><td>       NA                                                  </td><td>NA                                                         </td><td>NA                                                         </td><td>      NA                                                   </td></tr>\n",
       "\t<tr><th scope=row>GTEX-1117F-0226-SM-5GZZ7</th><td> 0                                                         </td><td>B1                                                         </td><td>2 pieces, ~15% vessel stroma, rep delineated               </td><td>6.8                                                        </td><td>Adipose Tissue                                             </td><td>Adipose - Subcutaneous                                     </td><td>0002190                                                    </td><td>1214                                                       </td><td>1125                                                       </td><td>BP-43693                                                   </td><td>...                                                        </td><td>14579275                                                   </td><td>12025354                                                   </td><td>0.003163721                                                </td><td>14634407                                                   </td><td>50.09436                                                   </td><td>0.003101902                                                </td><td>0.9928265                                                  </td><td>NA                                                         </td><td> 0                                                         </td><td>50.12628                                                   </td></tr>\n",
       "\t<tr><th scope=row>GTEX-1117F-0426-SM-5EGHI</th><td> 0                                                         </td><td>B1                                                         </td><td>2 pieces, !5% fibrous connective tissue, delineated (rep)  </td><td>7.1                                                        </td><td>Muscle                                                     </td><td>Muscle - Skeletal                                          </td><td>0011907                                                    </td><td>1220                                                       </td><td>1119                                                       </td><td>BP-43495                                                   </td><td>...                                                        </td><td>13134349                                                   </td><td>11578874                                                   </td><td>0.003991152                                                </td><td>13307871                                                   </td><td>50.32811                                                   </td><td>0.006990725                                                </td><td>0.9942121                                                  </td><td>NA                                                         </td><td> 0                                                         </td><td>49.90517                                                   </td></tr>\n",
       "\t<tr><th scope=row>GTEX-1117F-0526-SM-5EGHJ</th><td> 0                                                         </td><td>B1                                                         </td><td>2 pieces, clean, Monckebeg medial sclerosis, rep delineated</td><td>8.0                                                        </td><td>Blood Vessel                                               </td><td>Artery - Tibial                                            </td><td>0007610                                                    </td><td>1221                                                       </td><td>1120                                                       </td><td>BP-43495                                                   </td><td>...                                                        </td><td>13169835                                                   </td><td>11015113                                                   </td><td>0.004285066                                                </td><td>13160068                                                   </td><td>49.98145                                                   </td><td>0.002867028                                                </td><td>0.9927107                                                  </td><td>NA                                                         </td><td> 0                                                         </td><td>50.22785                                                   </td></tr>\n",
       "</tbody>\n",
       "</table>\n"
      ],
      "text/latex": [
       "\\begin{tabular}{r|llllllllllllllllllllllllllllllllllllllllllllllllllllllllllllll}\n",
       "  & SMATSSCR & SMCENTER & SMPTHNTS & SMRIN & SMTS & SMTSD & SMUBRID & SMTSISCH & SMTSPAX & SMNABTCH & ... & SME1ANTI & SMSPLTRD & SMBSMMRT & SME1SNSE & SME1PCTS & SMRRNART & SME1MPRT & SMNUM5CD & SMDPMPRT & SME2PCTS\\\\\n",
       "\\hline\n",
       "\tGTEX-1117F-0003-SM-58Q7G & NA                                                          & B1                                                          &                                                             &  NA                                                         & Blood                                                       & Whole Blood                                                 & 0013756                                                     & 1188                                                        &   NA                                                        & BP-38516                                                    & ...                                                         &       NA                                                    &       NA                                                    &          NA                                                 &       NA                                                    &       NA                                                    &          NA                                                 &        NA                                                   & NA                                                          & NA                                                          &       NA                                                   \\\\\n",
       "\tGTEX-1117F-0003-SM-5DWSB & NA                                                          & B1                                                          &                                                             &  NA                                                         & Blood                                                       & Whole Blood                                                 & 0013756                                                     & 1188                                                        &   NA                                                        & BP-38516                                                    & ...                                                         &       NA                                                    &       NA                                                    &          NA                                                 &       NA                                                    &       NA                                                    &          NA                                                 &        NA                                                   & NA                                                          & NA                                                          &       NA                                                   \\\\\n",
       "\tGTEX-1117F-0003-SM-6WBT7 & NA                                                          & B1                                                          &                                                             &  NA                                                         & Blood                                                       & Whole Blood                                                 & 0013756                                                     & 1188                                                        &   NA                                                        & BP-38543                                                    & ...                                                         &       NA                                                    &       NA                                                    &          NA                                                 &       NA                                                    &       NA                                                    &          NA                                                 &        NA                                                   & NA                                                          & NA                                                          &       NA                                                   \\\\\n",
       "\tGTEX-1117F-0226-SM-5GZZ7 &  0                                                                             & B1                                                                             & 2 pieces, \\textasciitilde{}15\\% vessel stroma, rep delineated                & 6.8                                                                            & Adipose Tissue                                                                 & Adipose - Subcutaneous                                                         & 0002190                                                                        & 1214                                                                           & 1125                                                                           & BP-43693                                                                       & ...                                                                            & 14579275                                                                       & 12025354                                                                       & 0.003163721                                                                    & 14634407                                                                       & 50.09436                                                                       & 0.003101902                                                                    & 0.9928265                                                                      & NA                                                                             &  0                                                                             & 50.12628                                                                      \\\\\n",
       "\tGTEX-1117F-0426-SM-5EGHI &  0                                                            & B1                                                            & 2 pieces, !5\\% fibrous connective tissue, delineated (rep)   & 7.1                                                           & Muscle                                                        & Muscle - Skeletal                                             & 0011907                                                       & 1220                                                          & 1119                                                          & BP-43495                                                      & ...                                                           & 13134349                                                      & 11578874                                                      & 0.003991152                                                   & 13307871                                                      & 50.32811                                                      & 0.006990725                                                   & 0.9942121                                                     & NA                                                            &  0                                                            & 49.90517                                                     \\\\\n",
       "\tGTEX-1117F-0526-SM-5EGHJ &  0                                                          & B1                                                          & 2 pieces, clean, Monckebeg medial sclerosis, rep delineated & 8.0                                                         & Blood Vessel                                                & Artery - Tibial                                             & 0007610                                                     & 1221                                                        & 1120                                                        & BP-43495                                                    & ...                                                         & 13169835                                                    & 11015113                                                    & 0.004285066                                                 & 13160068                                                    & 49.98145                                                    & 0.002867028                                                 & 0.9927107                                                   & NA                                                          &  0                                                          & 50.22785                                                   \\\\\n",
       "\\end{tabular}\n"
      ],
      "text/markdown": [
       "\n",
       "| <!--/--> | SMATSSCR | SMCENTER | SMPTHNTS | SMRIN | SMTS | SMTSD | SMUBRID | SMTSISCH | SMTSPAX | SMNABTCH | ... | SME1ANTI | SMSPLTRD | SMBSMMRT | SME1SNSE | SME1PCTS | SMRRNART | SME1MPRT | SMNUM5CD | SMDPMPRT | SME2PCTS | \n",
       "|---|---|---|---|---|---|\n",
       "| GTEX-1117F-0003-SM-58Q7G | NA                                                          | B1                                                          |                                                             |  NA                                                         | Blood                                                       | Whole Blood                                                 | 0013756                                                     | 1188                                                        |   NA                                                        | BP-38516                                                    | ...                                                         |       NA                                                    |       NA                                                    |          NA                                                 |       NA                                                    |       NA                                                    |          NA                                                 |        NA                                                   | NA                                                          | NA                                                          |       NA                                                    | \n",
       "| GTEX-1117F-0003-SM-5DWSB | NA                                                          | B1                                                          |                                                             |  NA                                                         | Blood                                                       | Whole Blood                                                 | 0013756                                                     | 1188                                                        |   NA                                                        | BP-38516                                                    | ...                                                         |       NA                                                    |       NA                                                    |          NA                                                 |       NA                                                    |       NA                                                    |          NA                                                 |        NA                                                   | NA                                                          | NA                                                          |       NA                                                    | \n",
       "| GTEX-1117F-0003-SM-6WBT7 | NA                                                          | B1                                                          |                                                             |  NA                                                         | Blood                                                       | Whole Blood                                                 | 0013756                                                     | 1188                                                        |   NA                                                        | BP-38543                                                    | ...                                                         |       NA                                                    |       NA                                                    |          NA                                                 |       NA                                                    |       NA                                                    |          NA                                                 |        NA                                                   | NA                                                          | NA                                                          |       NA                                                    | \n",
       "| GTEX-1117F-0226-SM-5GZZ7 |  0                                                          | B1                                                          | 2 pieces, ~15% vessel stroma, rep delineated                | 6.8                                                         | Adipose Tissue                                              | Adipose - Subcutaneous                                      | 0002190                                                     | 1214                                                        | 1125                                                        | BP-43693                                                    | ...                                                         | 14579275                                                    | 12025354                                                    | 0.003163721                                                 | 14634407                                                    | 50.09436                                                    | 0.003101902                                                 | 0.9928265                                                   | NA                                                          |  0                                                          | 50.12628                                                    | \n",
       "| GTEX-1117F-0426-SM-5EGHI |  0                                                          | B1                                                          | 2 pieces, !5% fibrous connective tissue, delineated (rep)   | 7.1                                                         | Muscle                                                      | Muscle - Skeletal                                           | 0011907                                                     | 1220                                                        | 1119                                                        | BP-43495                                                    | ...                                                         | 13134349                                                    | 11578874                                                    | 0.003991152                                                 | 13307871                                                    | 50.32811                                                    | 0.006990725                                                 | 0.9942121                                                   | NA                                                          |  0                                                          | 49.90517                                                    | \n",
       "| GTEX-1117F-0526-SM-5EGHJ |  0                                                          | B1                                                          | 2 pieces, clean, Monckebeg medial sclerosis, rep delineated | 8.0                                                         | Blood Vessel                                                | Artery - Tibial                                             | 0007610                                                     | 1221                                                        | 1120                                                        | BP-43495                                                    | ...                                                         | 13169835                                                    | 11015113                                                    | 0.004285066                                                 | 13160068                                                    | 49.98145                                                    | 0.002867028                                                 | 0.9927107                                                   | NA                                                          |  0                                                          | 50.22785                                                    | \n",
       "\n",
       "\n"
      ],
      "text/plain": [
       "                         SMATSSCR SMCENTER\n",
       "GTEX-1117F-0003-SM-58Q7G NA       B1      \n",
       "GTEX-1117F-0003-SM-5DWSB NA       B1      \n",
       "GTEX-1117F-0003-SM-6WBT7 NA       B1      \n",
       "GTEX-1117F-0226-SM-5GZZ7  0       B1      \n",
       "GTEX-1117F-0426-SM-5EGHI  0       B1      \n",
       "GTEX-1117F-0526-SM-5EGHJ  0       B1      \n",
       "                         SMPTHNTS                                                   \n",
       "GTEX-1117F-0003-SM-58Q7G                                                            \n",
       "GTEX-1117F-0003-SM-5DWSB                                                            \n",
       "GTEX-1117F-0003-SM-6WBT7                                                            \n",
       "GTEX-1117F-0226-SM-5GZZ7 2 pieces, ~15% vessel stroma, rep delineated               \n",
       "GTEX-1117F-0426-SM-5EGHI 2 pieces, !5% fibrous connective tissue, delineated (rep)  \n",
       "GTEX-1117F-0526-SM-5EGHJ 2 pieces, clean, Monckebeg medial sclerosis, rep delineated\n",
       "                         SMRIN SMTS           SMTSD                  SMUBRID\n",
       "GTEX-1117F-0003-SM-58Q7G  NA   Blood          Whole Blood            0013756\n",
       "GTEX-1117F-0003-SM-5DWSB  NA   Blood          Whole Blood            0013756\n",
       "GTEX-1117F-0003-SM-6WBT7  NA   Blood          Whole Blood            0013756\n",
       "GTEX-1117F-0226-SM-5GZZ7 6.8   Adipose Tissue Adipose - Subcutaneous 0002190\n",
       "GTEX-1117F-0426-SM-5EGHI 7.1   Muscle         Muscle - Skeletal      0011907\n",
       "GTEX-1117F-0526-SM-5EGHJ 8.0   Blood Vessel   Artery - Tibial        0007610\n",
       "                         SMTSISCH SMTSPAX SMNABTCH ... SME1ANTI SMSPLTRD\n",
       "GTEX-1117F-0003-SM-58Q7G 1188       NA    BP-38516 ...       NA       NA\n",
       "GTEX-1117F-0003-SM-5DWSB 1188       NA    BP-38516 ...       NA       NA\n",
       "GTEX-1117F-0003-SM-6WBT7 1188       NA    BP-38543 ...       NA       NA\n",
       "GTEX-1117F-0226-SM-5GZZ7 1214     1125    BP-43693 ... 14579275 12025354\n",
       "GTEX-1117F-0426-SM-5EGHI 1220     1119    BP-43495 ... 13134349 11578874\n",
       "GTEX-1117F-0526-SM-5EGHJ 1221     1120    BP-43495 ... 13169835 11015113\n",
       "                         SMBSMMRT    SME1SNSE SME1PCTS SMRRNART    SME1MPRT \n",
       "GTEX-1117F-0003-SM-58Q7G          NA       NA       NA          NA        NA\n",
       "GTEX-1117F-0003-SM-5DWSB          NA       NA       NA          NA        NA\n",
       "GTEX-1117F-0003-SM-6WBT7          NA       NA       NA          NA        NA\n",
       "GTEX-1117F-0226-SM-5GZZ7 0.003163721 14634407 50.09436 0.003101902 0.9928265\n",
       "GTEX-1117F-0426-SM-5EGHI 0.003991152 13307871 50.32811 0.006990725 0.9942121\n",
       "GTEX-1117F-0526-SM-5EGHJ 0.004285066 13160068 49.98145 0.002867028 0.9927107\n",
       "                         SMNUM5CD SMDPMPRT SME2PCTS\n",
       "GTEX-1117F-0003-SM-58Q7G NA       NA             NA\n",
       "GTEX-1117F-0003-SM-5DWSB NA       NA             NA\n",
       "GTEX-1117F-0003-SM-6WBT7 NA       NA             NA\n",
       "GTEX-1117F-0226-SM-5GZZ7 NA        0       50.12628\n",
       "GTEX-1117F-0426-SM-5EGHI NA        0       49.90517\n",
       "GTEX-1117F-0526-SM-5EGHJ NA        0       50.22785"
      ]
     },
     "metadata": {},
     "output_type": "display_data"
    }
   ],
   "source": [
    "head(sample.df)"
   ]
  },
  {
   "cell_type": "markdown",
   "metadata": {},
   "source": [
    "Each GTEx release defines an analysis freeze containing samples that pass all quality controls, for each sample type. The analysis freeze column is called `SMAFRZE`. For a summary of analysis freeze samples of each data type in the V7 release, run:"
   ]
  },
  {
   "cell_type": "code",
   "execution_count": 5,
   "metadata": {},
   "outputs": [
    {
     "data": {
      "text/plain": [
       "\n",
       "EXCLUDE    OMNI  RNASEQ     WES     WGS \n",
       "   2232     450   11688     593     635 "
      ]
     },
     "metadata": {},
     "output_type": "display_data"
    }
   ],
   "source": [
    "table(sample.df['SMAFRZE'])"
   ]
  },
  {
   "cell_type": "markdown",
   "metadata": {},
   "source": [
    "Here, we'll focus on the RNA-seq samples. To facilitate this, we define a new data frame containing the RNA-seq analysis freeze samples only:"
   ]
  },
  {
   "cell_type": "code",
   "execution_count": 6,
   "metadata": {},
   "outputs": [],
   "source": [
    "rnaseq.sample.df <- sample.df[sample.df['SMAFRZE']=='RNASEQ', ]"
   ]
  },
  {
   "cell_type": "markdown",
   "metadata": {},
   "source": [
    "To view the first few rows of attributes for these samples, run"
   ]
  },
  {
   "cell_type": "code",
   "execution_count": 7,
   "metadata": {},
   "outputs": [
    {
     "data": {
      "text/html": [
       "<table>\n",
       "<thead><tr><th></th><th scope=col>SMATSSCR</th><th scope=col>SMCENTER</th><th scope=col>SMPTHNTS</th><th scope=col>SMRIN</th><th scope=col>SMTS</th><th scope=col>SMTSD</th><th scope=col>SMUBRID</th><th scope=col>SMTSISCH</th><th scope=col>SMTSPAX</th><th scope=col>SMNABTCH</th><th scope=col>...</th><th scope=col>SME1ANTI</th><th scope=col>SMSPLTRD</th><th scope=col>SMBSMMRT</th><th scope=col>SME1SNSE</th><th scope=col>SME1PCTS</th><th scope=col>SMRRNART</th><th scope=col>SME1MPRT</th><th scope=col>SMNUM5CD</th><th scope=col>SMDPMPRT</th><th scope=col>SME2PCTS</th></tr></thead>\n",
       "<tbody>\n",
       "\t<tr><th scope=row>GTEX-1117F-0226-SM-5GZZ7</th><td>0                                                                                 </td><td>B1                                                                                </td><td>2 pieces, ~15% vessel stroma, rep delineated                                      </td><td>6.8                                                                               </td><td>Adipose Tissue                                                                    </td><td>Adipose - Subcutaneous                                                            </td><td>0002190                                                                           </td><td>1214                                                                              </td><td>1125                                                                              </td><td>BP-43693                                                                          </td><td>...                                                                               </td><td>14579275                                                                          </td><td>12025354                                                                          </td><td>0.003163721                                                                       </td><td>14634407                                                                          </td><td>50.09436                                                                          </td><td>0.003101902                                                                       </td><td>0.9928265                                                                         </td><td>NA                                                                                </td><td>0                                                                                 </td><td>50.12628                                                                          </td></tr>\n",
       "\t<tr><th scope=row>GTEX-1117F-0426-SM-5EGHI</th><td>0                                                                                 </td><td>B1                                                                                </td><td>2 pieces, !5% fibrous connective tissue, delineated (rep)                         </td><td>7.1                                                                               </td><td>Muscle                                                                            </td><td>Muscle - Skeletal                                                                 </td><td>0011907                                                                           </td><td>1220                                                                              </td><td>1119                                                                              </td><td>BP-43495                                                                          </td><td>...                                                                               </td><td>13134349                                                                          </td><td>11578874                                                                          </td><td>0.003991152                                                                       </td><td>13307871                                                                          </td><td>50.32811                                                                          </td><td>0.006990725                                                                       </td><td>0.9942121                                                                         </td><td>NA                                                                                </td><td>0                                                                                 </td><td>49.90517                                                                          </td></tr>\n",
       "\t<tr><th scope=row>GTEX-1117F-0526-SM-5EGHJ</th><td>0                                                                                 </td><td>B1                                                                                </td><td>2 pieces, clean, Monckebeg medial sclerosis, rep delineated                       </td><td>8.0                                                                               </td><td>Blood Vessel                                                                      </td><td>Artery - Tibial                                                                   </td><td>0007610                                                                           </td><td>1221                                                                              </td><td>1120                                                                              </td><td>BP-43495                                                                          </td><td>...                                                                               </td><td>13169835                                                                          </td><td>11015113                                                                          </td><td>0.004285066                                                                       </td><td>13160068                                                                          </td><td>49.98145                                                                          </td><td>0.002867028                                                                       </td><td>0.9927107                                                                         </td><td>NA                                                                                </td><td>0                                                                                 </td><td>50.22785                                                                          </td></tr>\n",
       "\t<tr><th scope=row>GTEX-1117F-0626-SM-5N9CS</th><td>1                                                                                 </td><td>B1                                                                                </td><td>2 pieces, up to 4mm aderent fat/nerve/vessel, delineated                          </td><td>6.9                                                                               </td><td>Blood Vessel                                                                      </td><td>Artery - Coronary                                                                 </td><td>0001621                                                                           </td><td>1243                                                                              </td><td>1098                                                                              </td><td>BP-43956                                                                          </td><td>...                                                                               </td><td>15148343                                                                          </td><td>11624467                                                                          </td><td>0.003379409                                                                       </td><td>15282444                                                                          </td><td>50.22033                                                                          </td><td>0.005335459                                                                       </td><td>0.9911747                                                                         </td><td>NA                                                                                </td><td>0                                                                                 </td><td>50.02504                                                                          </td></tr>\n",
       "\t<tr><th scope=row>GTEX-1117F-0726-SM-5GIEN</th><td>1                                                                                 </td><td>B1                                                                                </td><td>2 pieces, no abnormalities                                                        </td><td>6.3                                                                               </td><td>Heart                                                                             </td><td>Heart - Atrial Appendage                                                          </td><td>0006631                                                                           </td><td>1244                                                                              </td><td>1097                                                                              </td><td>BP-44261                                                                          </td><td>...                                                                               </td><td>13583226                                                                          </td><td> 9262806                                                                          </td><td>0.003450733                                                                       </td><td>13745609                                                                          </td><td>50.29709                                                                          </td><td>0.030579332                                                                       </td><td>0.9944781                                                                         </td><td>NA                                                                                </td><td>0                                                                                 </td><td>49.92987                                                                          </td></tr>\n",
       "\t<tr><th scope=row>GTEX-1117F-1326-SM-5EGHH</th><td>1                                                                                 </td><td>B1                                                                                </td><td>2 pieces, diffuse mesothelial hyperplasia; ~10% vessel/fibrous tissue (delineated)</td><td>5.9                                                                               </td><td>Adipose Tissue                                                                    </td><td>Adipose - Visceral (Omentum)                                                      </td><td>0010414                                                                           </td><td>1277                                                                              </td><td>1066                                                                              </td><td>BP-43495                                                                          </td><td>...                                                                               </td><td>13342709                                                                          </td><td> 9625148                                                                          </td><td>0.004869216                                                                       </td><td>13393827                                                                          </td><td>50.09559                                                                          </td><td>0.010321368                                                                       </td><td>0.9891147                                                                         </td><td>NA                                                                                </td><td>0                                                                                 </td><td>50.05861                                                                          </td></tr>\n",
       "</tbody>\n",
       "</table>\n"
      ],
      "text/latex": [
       "\\begin{tabular}{r|llllllllllllllllllllllllllllllllllllllllllllllllllllllllllllll}\n",
       "  & SMATSSCR & SMCENTER & SMPTHNTS & SMRIN & SMTS & SMTSD & SMUBRID & SMTSISCH & SMTSPAX & SMNABTCH & ... & SME1ANTI & SMSPLTRD & SMBSMMRT & SME1SNSE & SME1PCTS & SMRRNART & SME1MPRT & SMNUM5CD & SMDPMPRT & SME2PCTS\\\\\n",
       "\\hline\n",
       "\tGTEX-1117F-0226-SM-5GZZ7 & 0                                                                                                     & B1                                                                                                    & 2 pieces, \\textasciitilde{}15\\% vessel stroma, rep delineated                                       & 6.8                                                                                                   & Adipose Tissue                                                                                        & Adipose - Subcutaneous                                                                                & 0002190                                                                                               & 1214                                                                                                  & 1125                                                                                                  & BP-43693                                                                                              & ...                                                                                                   & 14579275                                                                                              & 12025354                                                                                              & 0.003163721                                                                                           & 14634407                                                                                              & 50.09436                                                                                              & 0.003101902                                                                                           & 0.9928265                                                                                             & NA                                                                                                    & 0                                                                                                     & 50.12628                                                                                             \\\\\n",
       "\tGTEX-1117F-0426-SM-5EGHI & 0                                                                                    & B1                                                                                   & 2 pieces, !5\\% fibrous connective tissue, delineated (rep)                          & 7.1                                                                                  & Muscle                                                                               & Muscle - Skeletal                                                                    & 0011907                                                                              & 1220                                                                                 & 1119                                                                                 & BP-43495                                                                             & ...                                                                                  & 13134349                                                                             & 11578874                                                                             & 0.003991152                                                                          & 13307871                                                                             & 50.32811                                                                             & 0.006990725                                                                          & 0.9942121                                                                            & NA                                                                                   & 0                                                                                    & 49.90517                                                                            \\\\\n",
       "\tGTEX-1117F-0526-SM-5EGHJ & 0                                                                                  & B1                                                                                 & 2 pieces, clean, Monckebeg medial sclerosis, rep delineated                        & 8.0                                                                                & Blood Vessel                                                                       & Artery - Tibial                                                                    & 0007610                                                                            & 1221                                                                               & 1120                                                                               & BP-43495                                                                           & ...                                                                                & 13169835                                                                           & 11015113                                                                           & 0.004285066                                                                        & 13160068                                                                           & 49.98145                                                                           & 0.002867028                                                                        & 0.9927107                                                                          & NA                                                                                 & 0                                                                                  & 50.22785                                                                          \\\\\n",
       "\tGTEX-1117F-0626-SM-5N9CS & 1                                                                                  & B1                                                                                 & 2 pieces, up to 4mm aderent fat/nerve/vessel, delineated                           & 6.9                                                                                & Blood Vessel                                                                       & Artery - Coronary                                                                  & 0001621                                                                            & 1243                                                                               & 1098                                                                               & BP-43956                                                                           & ...                                                                                & 15148343                                                                           & 11624467                                                                           & 0.003379409                                                                        & 15282444                                                                           & 50.22033                                                                           & 0.005335459                                                                        & 0.9911747                                                                          & NA                                                                                 & 0                                                                                  & 50.02504                                                                          \\\\\n",
       "\tGTEX-1117F-0726-SM-5GIEN & 1                                                                                  & B1                                                                                 & 2 pieces, no abnormalities                                                         & 6.3                                                                                & Heart                                                                              & Heart - Atrial Appendage                                                           & 0006631                                                                            & 1244                                                                               & 1097                                                                               & BP-44261                                                                           & ...                                                                                & 13583226                                                                           &  9262806                                                                           & 0.003450733                                                                        & 13745609                                                                           & 50.29709                                                                           & 0.030579332                                                                        & 0.9944781                                                                          & NA                                                                                 & 0                                                                                  & 49.92987                                                                          \\\\\n",
       "\tGTEX-1117F-1326-SM-5EGHH & 1                                                                                                     & B1                                                                                                    & 2 pieces, diffuse mesothelial hyperplasia; \\textasciitilde{}10\\% vessel/fibrous tissue (delineated) & 5.9                                                                                                   & Adipose Tissue                                                                                        & Adipose - Visceral (Omentum)                                                                          & 0010414                                                                                               & 1277                                                                                                  & 1066                                                                                                  & BP-43495                                                                                              & ...                                                                                                   & 13342709                                                                                              &  9625148                                                                                              & 0.004869216                                                                                           & 13393827                                                                                              & 50.09559                                                                                              & 0.010321368                                                                                           & 0.9891147                                                                                             & NA                                                                                                    & 0                                                                                                     & 50.05861                                                                                             \\\\\n",
       "\\end{tabular}\n"
      ],
      "text/markdown": [
       "\n",
       "| <!--/--> | SMATSSCR | SMCENTER | SMPTHNTS | SMRIN | SMTS | SMTSD | SMUBRID | SMTSISCH | SMTSPAX | SMNABTCH | ... | SME1ANTI | SMSPLTRD | SMBSMMRT | SME1SNSE | SME1PCTS | SMRRNART | SME1MPRT | SMNUM5CD | SMDPMPRT | SME2PCTS | \n",
       "|---|---|---|---|---|---|\n",
       "| GTEX-1117F-0226-SM-5GZZ7 | 0                                                                                  | B1                                                                                 | 2 pieces, ~15% vessel stroma, rep delineated                                       | 6.8                                                                                | Adipose Tissue                                                                     | Adipose - Subcutaneous                                                             | 0002190                                                                            | 1214                                                                               | 1125                                                                               | BP-43693                                                                           | ...                                                                                | 14579275                                                                           | 12025354                                                                           | 0.003163721                                                                        | 14634407                                                                           | 50.09436                                                                           | 0.003101902                                                                        | 0.9928265                                                                          | NA                                                                                 | 0                                                                                  | 50.12628                                                                           | \n",
       "| GTEX-1117F-0426-SM-5EGHI | 0                                                                                  | B1                                                                                 | 2 pieces, !5% fibrous connective tissue, delineated (rep)                          | 7.1                                                                                | Muscle                                                                             | Muscle - Skeletal                                                                  | 0011907                                                                            | 1220                                                                               | 1119                                                                               | BP-43495                                                                           | ...                                                                                | 13134349                                                                           | 11578874                                                                           | 0.003991152                                                                        | 13307871                                                                           | 50.32811                                                                           | 0.006990725                                                                        | 0.9942121                                                                          | NA                                                                                 | 0                                                                                  | 49.90517                                                                           | \n",
       "| GTEX-1117F-0526-SM-5EGHJ | 0                                                                                  | B1                                                                                 | 2 pieces, clean, Monckebeg medial sclerosis, rep delineated                        | 8.0                                                                                | Blood Vessel                                                                       | Artery - Tibial                                                                    | 0007610                                                                            | 1221                                                                               | 1120                                                                               | BP-43495                                                                           | ...                                                                                | 13169835                                                                           | 11015113                                                                           | 0.004285066                                                                        | 13160068                                                                           | 49.98145                                                                           | 0.002867028                                                                        | 0.9927107                                                                          | NA                                                                                 | 0                                                                                  | 50.22785                                                                           | \n",
       "| GTEX-1117F-0626-SM-5N9CS | 1                                                                                  | B1                                                                                 | 2 pieces, up to 4mm aderent fat/nerve/vessel, delineated                           | 6.9                                                                                | Blood Vessel                                                                       | Artery - Coronary                                                                  | 0001621                                                                            | 1243                                                                               | 1098                                                                               | BP-43956                                                                           | ...                                                                                | 15148343                                                                           | 11624467                                                                           | 0.003379409                                                                        | 15282444                                                                           | 50.22033                                                                           | 0.005335459                                                                        | 0.9911747                                                                          | NA                                                                                 | 0                                                                                  | 50.02504                                                                           | \n",
       "| GTEX-1117F-0726-SM-5GIEN | 1                                                                                  | B1                                                                                 | 2 pieces, no abnormalities                                                         | 6.3                                                                                | Heart                                                                              | Heart - Atrial Appendage                                                           | 0006631                                                                            | 1244                                                                               | 1097                                                                               | BP-44261                                                                           | ...                                                                                | 13583226                                                                           |  9262806                                                                           | 0.003450733                                                                        | 13745609                                                                           | 50.29709                                                                           | 0.030579332                                                                        | 0.9944781                                                                          | NA                                                                                 | 0                                                                                  | 49.92987                                                                           | \n",
       "| GTEX-1117F-1326-SM-5EGHH | 1                                                                                  | B1                                                                                 | 2 pieces, diffuse mesothelial hyperplasia; ~10% vessel/fibrous tissue (delineated) | 5.9                                                                                | Adipose Tissue                                                                     | Adipose - Visceral (Omentum)                                                       | 0010414                                                                            | 1277                                                                               | 1066                                                                               | BP-43495                                                                           | ...                                                                                | 13342709                                                                           |  9625148                                                                           | 0.004869216                                                                        | 13393827                                                                           | 50.09559                                                                           | 0.010321368                                                                        | 0.9891147                                                                          | NA                                                                                 | 0                                                                                  | 50.05861                                                                           | \n",
       "\n",
       "\n"
      ],
      "text/plain": [
       "                         SMATSSCR SMCENTER\n",
       "GTEX-1117F-0226-SM-5GZZ7 0        B1      \n",
       "GTEX-1117F-0426-SM-5EGHI 0        B1      \n",
       "GTEX-1117F-0526-SM-5EGHJ 0        B1      \n",
       "GTEX-1117F-0626-SM-5N9CS 1        B1      \n",
       "GTEX-1117F-0726-SM-5GIEN 1        B1      \n",
       "GTEX-1117F-1326-SM-5EGHH 1        B1      \n",
       "                         SMPTHNTS                                                                          \n",
       "GTEX-1117F-0226-SM-5GZZ7 2 pieces, ~15% vessel stroma, rep delineated                                      \n",
       "GTEX-1117F-0426-SM-5EGHI 2 pieces, !5% fibrous connective tissue, delineated (rep)                         \n",
       "GTEX-1117F-0526-SM-5EGHJ 2 pieces, clean, Monckebeg medial sclerosis, rep delineated                       \n",
       "GTEX-1117F-0626-SM-5N9CS 2 pieces, up to 4mm aderent fat/nerve/vessel, delineated                          \n",
       "GTEX-1117F-0726-SM-5GIEN 2 pieces, no abnormalities                                                        \n",
       "GTEX-1117F-1326-SM-5EGHH 2 pieces, diffuse mesothelial hyperplasia; ~10% vessel/fibrous tissue (delineated)\n",
       "                         SMRIN SMTS           SMTSD                       \n",
       "GTEX-1117F-0226-SM-5GZZ7 6.8   Adipose Tissue Adipose - Subcutaneous      \n",
       "GTEX-1117F-0426-SM-5EGHI 7.1   Muscle         Muscle - Skeletal           \n",
       "GTEX-1117F-0526-SM-5EGHJ 8.0   Blood Vessel   Artery - Tibial             \n",
       "GTEX-1117F-0626-SM-5N9CS 6.9   Blood Vessel   Artery - Coronary           \n",
       "GTEX-1117F-0726-SM-5GIEN 6.3   Heart          Heart - Atrial Appendage    \n",
       "GTEX-1117F-1326-SM-5EGHH 5.9   Adipose Tissue Adipose - Visceral (Omentum)\n",
       "                         SMUBRID SMTSISCH SMTSPAX SMNABTCH ... SME1ANTI\n",
       "GTEX-1117F-0226-SM-5GZZ7 0002190 1214     1125    BP-43693 ... 14579275\n",
       "GTEX-1117F-0426-SM-5EGHI 0011907 1220     1119    BP-43495 ... 13134349\n",
       "GTEX-1117F-0526-SM-5EGHJ 0007610 1221     1120    BP-43495 ... 13169835\n",
       "GTEX-1117F-0626-SM-5N9CS 0001621 1243     1098    BP-43956 ... 15148343\n",
       "GTEX-1117F-0726-SM-5GIEN 0006631 1244     1097    BP-44261 ... 13583226\n",
       "GTEX-1117F-1326-SM-5EGHH 0010414 1277     1066    BP-43495 ... 13342709\n",
       "                         SMSPLTRD SMBSMMRT    SME1SNSE SME1PCTS SMRRNART   \n",
       "GTEX-1117F-0226-SM-5GZZ7 12025354 0.003163721 14634407 50.09436 0.003101902\n",
       "GTEX-1117F-0426-SM-5EGHI 11578874 0.003991152 13307871 50.32811 0.006990725\n",
       "GTEX-1117F-0526-SM-5EGHJ 11015113 0.004285066 13160068 49.98145 0.002867028\n",
       "GTEX-1117F-0626-SM-5N9CS 11624467 0.003379409 15282444 50.22033 0.005335459\n",
       "GTEX-1117F-0726-SM-5GIEN  9262806 0.003450733 13745609 50.29709 0.030579332\n",
       "GTEX-1117F-1326-SM-5EGHH  9625148 0.004869216 13393827 50.09559 0.010321368\n",
       "                         SME1MPRT  SMNUM5CD SMDPMPRT SME2PCTS\n",
       "GTEX-1117F-0226-SM-5GZZ7 0.9928265 NA       0        50.12628\n",
       "GTEX-1117F-0426-SM-5EGHI 0.9942121 NA       0        49.90517\n",
       "GTEX-1117F-0526-SM-5EGHJ 0.9927107 NA       0        50.22785\n",
       "GTEX-1117F-0626-SM-5N9CS 0.9911747 NA       0        50.02504\n",
       "GTEX-1117F-0726-SM-5GIEN 0.9944781 NA       0        49.92987\n",
       "GTEX-1117F-1326-SM-5EGHH 0.9891147 NA       0        50.05861"
      ]
     },
     "metadata": {},
     "output_type": "display_data"
    }
   ],
   "source": [
    "head(rnaseq.sample.df)"
   ]
  },
  {
   "cell_type": "markdown",
   "metadata": {},
   "source": [
    "One of the key columns in the sample attribute table is `SMTSD`, which stands for 'Tissue Site Detail'. This enables the selection of samples from a specific tissue. For example, to obtain a summary of sample sizes in each tissue, run:"
   ]
  },
  {
   "cell_type": "code",
   "execution_count": 8,
   "metadata": {},
   "outputs": [
    {
     "data": {
      "text/html": [
       "<table>\n",
       "<tbody>\n",
       "\t<tr><th scope=row>Muscle - Skeletal</th><td>564</td></tr>\n",
       "\t<tr><th scope=row>Skin - Sun Exposed (Lower leg)</th><td>473</td></tr>\n",
       "\t<tr><th scope=row>Thyroid</th><td>446</td></tr>\n",
       "\t<tr><th scope=row>Adipose - Subcutaneous</th><td>442</td></tr>\n",
       "\t<tr><th scope=row>Artery - Tibial</th><td>441</td></tr>\n",
       "\t<tr><th scope=row>Lung</th><td>427</td></tr>\n",
       "\t<tr><th scope=row>Nerve - Tibial</th><td>414</td></tr>\n",
       "\t<tr><th scope=row>Esophagus - Mucosa</th><td>407</td></tr>\n",
       "\t<tr><th scope=row>Whole Blood</th><td>407</td></tr>\n",
       "\t<tr><th scope=row>Skin - Not Sun Exposed (Suprapubic)</th><td>387</td></tr>\n",
       "\t<tr><th scope=row>Esophagus - Muscularis</th><td>370</td></tr>\n",
       "\t<tr><th scope=row>Adipose - Visceral (Omentum)</th><td>355</td></tr>\n",
       "\t<tr><th scope=row>Cells - Transformed fibroblasts</th><td>343</td></tr>\n",
       "\t<tr><th scope=row>Heart - Left Ventricle</th><td>303</td></tr>\n",
       "\t<tr><th scope=row>Artery - Aorta</th><td>299</td></tr>\n",
       "\t<tr><th scope=row>Heart - Atrial Appendage</th><td>297</td></tr>\n",
       "\t<tr><th scope=row>Breast - Mammary Tissue</th><td>290</td></tr>\n",
       "\t<tr><th scope=row>Colon - Transverse</th><td>274</td></tr>\n",
       "\t<tr><th scope=row>Stomach</th><td>262</td></tr>\n",
       "\t<tr><th scope=row>Testis</th><td>259</td></tr>\n",
       "\t<tr><th scope=row>Pancreas</th><td>248</td></tr>\n",
       "\t<tr><th scope=row>Esophagus - Gastroesophageal Junction</th><td>244</td></tr>\n",
       "\t<tr><th scope=row>Colon - Sigmoid</th><td>233</td></tr>\n",
       "\t<tr><th scope=row>Adrenal Gland</th><td>190</td></tr>\n",
       "\t<tr><th scope=row>Pituitary</th><td>183</td></tr>\n",
       "\t<tr><th scope=row>Liver</th><td>175</td></tr>\n",
       "\t<tr><th scope=row>Artery - Coronary</th><td>173</td></tr>\n",
       "\t<tr><th scope=row>Brain - Cerebellum</th><td>173</td></tr>\n",
       "\t<tr><th scope=row>Spleen</th><td>162</td></tr>\n",
       "\t<tr><th scope=row>Brain - Caudate (basal ganglia)</th><td>160</td></tr>\n",
       "\t<tr><th scope=row>Brain - Cortex</th><td>158</td></tr>\n",
       "\t<tr><th scope=row>Prostate</th><td>152</td></tr>\n",
       "\t<tr><th scope=row>Brain - Nucleus accumbens (basal ganglia)</th><td>147</td></tr>\n",
       "\t<tr><th scope=row>Small Intestine - Terminal Ileum</th><td>137</td></tr>\n",
       "\t<tr><th scope=row>Brain - Cerebellar Hemisphere</th><td>136</td></tr>\n",
       "\t<tr><th scope=row>Ovary</th><td>133</td></tr>\n",
       "\t<tr><th scope=row>Cells - EBV-transformed lymphocytes</th><td>130</td></tr>\n",
       "\t<tr><th scope=row>Brain - Frontal Cortex (BA9)</th><td>129</td></tr>\n",
       "\t<tr><th scope=row>Brain - Putamen (basal ganglia)</th><td>124</td></tr>\n",
       "\t<tr><th scope=row>Brain - Hippocampus</th><td>123</td></tr>\n",
       "\t<tr><th scope=row>Brain - Anterior cingulate cortex (BA24)</th><td>121</td></tr>\n",
       "\t<tr><th scope=row>Brain - Hypothalamus</th><td>121</td></tr>\n",
       "\t<tr><th scope=row>Vagina</th><td>115</td></tr>\n",
       "\t<tr><th scope=row>Uterus</th><td>111</td></tr>\n",
       "\t<tr><th scope=row>Brain - Amygdala</th><td>100</td></tr>\n",
       "\t<tr><th scope=row>Minor Salivary Gland</th><td> 97</td></tr>\n",
       "\t<tr><th scope=row>Brain - Spinal cord (cervical c-1)</th><td> 91</td></tr>\n",
       "\t<tr><th scope=row>Brain - Substantia nigra</th><td> 88</td></tr>\n",
       "\t<tr><th scope=row>Kidney - Cortex</th><td> 45</td></tr>\n",
       "\t<tr><th scope=row>Bladder</th><td> 11</td></tr>\n",
       "\t<tr><th scope=row>Fallopian Tube</th><td>  7</td></tr>\n",
       "\t<tr><th scope=row>Cervix - Ectocervix</th><td>  6</td></tr>\n",
       "\t<tr><th scope=row>Cervix - Endocervix</th><td>  5</td></tr>\n",
       "</tbody>\n",
       "</table>\n"
      ],
      "text/latex": [
       "\\begin{tabular}{r|l}\n",
       "\tMuscle - Skeletal & 564\\\\\n",
       "\tSkin - Sun Exposed (Lower leg) & 473\\\\\n",
       "\tThyroid & 446\\\\\n",
       "\tAdipose - Subcutaneous & 442\\\\\n",
       "\tArtery - Tibial & 441\\\\\n",
       "\tLung & 427\\\\\n",
       "\tNerve - Tibial & 414\\\\\n",
       "\tEsophagus - Mucosa & 407\\\\\n",
       "\tWhole Blood & 407\\\\\n",
       "\tSkin - Not Sun Exposed (Suprapubic) & 387\\\\\n",
       "\tEsophagus - Muscularis & 370\\\\\n",
       "\tAdipose - Visceral (Omentum) & 355\\\\\n",
       "\tCells - Transformed fibroblasts & 343\\\\\n",
       "\tHeart - Left Ventricle & 303\\\\\n",
       "\tArtery - Aorta & 299\\\\\n",
       "\tHeart - Atrial Appendage & 297\\\\\n",
       "\tBreast - Mammary Tissue & 290\\\\\n",
       "\tColon - Transverse & 274\\\\\n",
       "\tStomach & 262\\\\\n",
       "\tTestis & 259\\\\\n",
       "\tPancreas & 248\\\\\n",
       "\tEsophagus - Gastroesophageal Junction & 244\\\\\n",
       "\tColon - Sigmoid & 233\\\\\n",
       "\tAdrenal Gland & 190\\\\\n",
       "\tPituitary & 183\\\\\n",
       "\tLiver & 175\\\\\n",
       "\tArtery - Coronary & 173\\\\\n",
       "\tBrain - Cerebellum & 173\\\\\n",
       "\tSpleen & 162\\\\\n",
       "\tBrain - Caudate (basal ganglia) & 160\\\\\n",
       "\tBrain - Cortex & 158\\\\\n",
       "\tProstate & 152\\\\\n",
       "\tBrain - Nucleus accumbens (basal ganglia) & 147\\\\\n",
       "\tSmall Intestine - Terminal Ileum & 137\\\\\n",
       "\tBrain - Cerebellar Hemisphere & 136\\\\\n",
       "\tOvary & 133\\\\\n",
       "\tCells - EBV-transformed lymphocytes & 130\\\\\n",
       "\tBrain - Frontal Cortex (BA9) & 129\\\\\n",
       "\tBrain - Putamen (basal ganglia) & 124\\\\\n",
       "\tBrain - Hippocampus & 123\\\\\n",
       "\tBrain - Anterior cingulate cortex (BA24) & 121\\\\\n",
       "\tBrain - Hypothalamus & 121\\\\\n",
       "\tVagina & 115\\\\\n",
       "\tUterus & 111\\\\\n",
       "\tBrain - Amygdala & 100\\\\\n",
       "\tMinor Salivary Gland &  97\\\\\n",
       "\tBrain - Spinal cord (cervical c-1) &  91\\\\\n",
       "\tBrain - Substantia nigra &  88\\\\\n",
       "\tKidney - Cortex &  45\\\\\n",
       "\tBladder &  11\\\\\n",
       "\tFallopian Tube &   7\\\\\n",
       "\tCervix - Ectocervix &   6\\\\\n",
       "\tCervix - Endocervix &   5\\\\\n",
       "\\end{tabular}\n"
      ],
      "text/markdown": [
       "\n",
       "| Muscle - Skeletal | 564 | \n",
       "| Skin - Sun Exposed (Lower leg) | 473 | \n",
       "| Thyroid | 446 | \n",
       "| Adipose - Subcutaneous | 442 | \n",
       "| Artery - Tibial | 441 | \n",
       "| Lung | 427 | \n",
       "| Nerve - Tibial | 414 | \n",
       "| Esophagus - Mucosa | 407 | \n",
       "| Whole Blood | 407 | \n",
       "| Skin - Not Sun Exposed (Suprapubic) | 387 | \n",
       "| Esophagus - Muscularis | 370 | \n",
       "| Adipose - Visceral (Omentum) | 355 | \n",
       "| Cells - Transformed fibroblasts | 343 | \n",
       "| Heart - Left Ventricle | 303 | \n",
       "| Artery - Aorta | 299 | \n",
       "| Heart - Atrial Appendage | 297 | \n",
       "| Breast - Mammary Tissue | 290 | \n",
       "| Colon - Transverse | 274 | \n",
       "| Stomach | 262 | \n",
       "| Testis | 259 | \n",
       "| Pancreas | 248 | \n",
       "| Esophagus - Gastroesophageal Junction | 244 | \n",
       "| Colon - Sigmoid | 233 | \n",
       "| Adrenal Gland | 190 | \n",
       "| Pituitary | 183 | \n",
       "| Liver | 175 | \n",
       "| Artery - Coronary | 173 | \n",
       "| Brain - Cerebellum | 173 | \n",
       "| Spleen | 162 | \n",
       "| Brain - Caudate (basal ganglia) | 160 | \n",
       "| Brain - Cortex | 158 | \n",
       "| Prostate | 152 | \n",
       "| Brain - Nucleus accumbens (basal ganglia) | 147 | \n",
       "| Small Intestine - Terminal Ileum | 137 | \n",
       "| Brain - Cerebellar Hemisphere | 136 | \n",
       "| Ovary | 133 | \n",
       "| Cells - EBV-transformed lymphocytes | 130 | \n",
       "| Brain - Frontal Cortex (BA9) | 129 | \n",
       "| Brain - Putamen (basal ganglia) | 124 | \n",
       "| Brain - Hippocampus | 123 | \n",
       "| Brain - Anterior cingulate cortex (BA24) | 121 | \n",
       "| Brain - Hypothalamus | 121 | \n",
       "| Vagina | 115 | \n",
       "| Uterus | 111 | \n",
       "| Brain - Amygdala | 100 | \n",
       "| Minor Salivary Gland |  97 | \n",
       "| Brain - Spinal cord (cervical c-1) |  91 | \n",
       "| Brain - Substantia nigra |  88 | \n",
       "| Kidney - Cortex |  45 | \n",
       "| Bladder |  11 | \n",
       "| Fallopian Tube |   7 | \n",
       "| Cervix - Ectocervix |   6 | \n",
       "| Cervix - Endocervix |   5 | \n",
       "\n",
       "\n"
      ],
      "text/plain": [
       "                                          [,1]\n",
       "Muscle - Skeletal                         564 \n",
       "Skin - Sun Exposed (Lower leg)            473 \n",
       "Thyroid                                   446 \n",
       "Adipose - Subcutaneous                    442 \n",
       "Artery - Tibial                           441 \n",
       "Lung                                      427 \n",
       "Nerve - Tibial                            414 \n",
       "Esophagus - Mucosa                        407 \n",
       "Whole Blood                               407 \n",
       "Skin - Not Sun Exposed (Suprapubic)       387 \n",
       "Esophagus - Muscularis                    370 \n",
       "Adipose - Visceral (Omentum)              355 \n",
       "Cells - Transformed fibroblasts           343 \n",
       "Heart - Left Ventricle                    303 \n",
       "Artery - Aorta                            299 \n",
       "Heart - Atrial Appendage                  297 \n",
       "Breast - Mammary Tissue                   290 \n",
       "Colon - Transverse                        274 \n",
       "Stomach                                   262 \n",
       "Testis                                    259 \n",
       "Pancreas                                  248 \n",
       "Esophagus - Gastroesophageal Junction     244 \n",
       "Colon - Sigmoid                           233 \n",
       "Adrenal Gland                             190 \n",
       "Pituitary                                 183 \n",
       "Liver                                     175 \n",
       "Artery - Coronary                         173 \n",
       "Brain - Cerebellum                        173 \n",
       "Spleen                                    162 \n",
       "Brain - Caudate (basal ganglia)           160 \n",
       "Brain - Cortex                            158 \n",
       "Prostate                                  152 \n",
       "Brain - Nucleus accumbens (basal ganglia) 147 \n",
       "Small Intestine - Terminal Ileum          137 \n",
       "Brain - Cerebellar Hemisphere             136 \n",
       "Ovary                                     133 \n",
       "Cells - EBV-transformed lymphocytes       130 \n",
       "Brain - Frontal Cortex (BA9)              129 \n",
       "Brain - Putamen (basal ganglia)           124 \n",
       "Brain - Hippocampus                       123 \n",
       "Brain - Anterior cingulate cortex (BA24)  121 \n",
       "Brain - Hypothalamus                      121 \n",
       "Vagina                                    115 \n",
       "Uterus                                    111 \n",
       "Brain - Amygdala                          100 \n",
       "Minor Salivary Gland                       97 \n",
       "Brain - Spinal cord (cervical c-1)         91 \n",
       "Brain - Substantia nigra                   88 \n",
       "Kidney - Cortex                            45 \n",
       "Bladder                                    11 \n",
       "Fallopian Tube                              7 \n",
       "Cervix - Ectocervix                         6 \n",
       "Cervix - Endocervix                         5 "
      ]
     },
     "metadata": {},
     "output_type": "display_data"
    }
   ],
   "source": [
    "as.matrix(sort(table(rnaseq.sample.df['SMTSD']), decreasing=TRUE))"
   ]
  },
  {
   "cell_type": "markdown",
   "metadata": {},
   "source": [
    "The RNA-seq samples corresponding to a given tissue can be selected using the `SMTSD` column:"
   ]
  },
  {
   "cell_type": "code",
   "execution_count": 9,
   "metadata": {},
   "outputs": [
    {
     "data": {
      "text/html": [
       "<table>\n",
       "<thead><tr><th></th><th scope=col>SMATSSCR</th><th scope=col>SMCENTER</th><th scope=col>SMPTHNTS</th><th scope=col>SMRIN</th><th scope=col>SMTS</th><th scope=col>SMTSD</th><th scope=col>SMUBRID</th><th scope=col>SMTSISCH</th><th scope=col>SMTSPAX</th><th scope=col>SMNABTCH</th><th scope=col>...</th><th scope=col>SME1ANTI</th><th scope=col>SMSPLTRD</th><th scope=col>SMBSMMRT</th><th scope=col>SME1SNSE</th><th scope=col>SME1PCTS</th><th scope=col>SMRRNART</th><th scope=col>SME1MPRT</th><th scope=col>SMNUM5CD</th><th scope=col>SMDPMPRT</th><th scope=col>SME2PCTS</th></tr></thead>\n",
       "<tbody>\n",
       "\t<tr><th scope=row>GTEX-111CU-0526-SM-5EGHK</th><td>1                                                                                                                                                 </td><td>B1                                                                                                                                                </td><td>2 pieces, include 20 and 40% fat (attached and internal)                                                                                          </td><td>7.2                                                                                                                                               </td><td>Pancreas                                                                                                                                          </td><td>Pancreas                                                                                                                                          </td><td>0001150                                                                                                                                           </td><td> 72                                                                                                                                               </td><td> 637                                                                                                                                              </td><td>BP-43495                                                                                                                                          </td><td>...                                                                                                                                               </td><td>13106749                                                                                                                                          </td><td>15136415                                                                                                                                          </td><td>0.008058607                                                                                                                                       </td><td>13257128                                                                                                                                          </td><td>50.28520                                                                                                                                          </td><td>0.001842467                                                                                                                                       </td><td>0.9929395                                                                                                                                         </td><td>NA                                                                                                                                                </td><td>0                                                                                                                                                 </td><td>49.93632                                                                                                                                          </td></tr>\n",
       "\t<tr><th scope=row>GTEX-111YS-1226-SM-5EGGJ</th><td>1                                                                                                                                                 </td><td>B1                                                                                                                                                </td><td>2 somewhat fragmented pieces                                                                                                                      </td><td>6.8                                                                                                                                               </td><td>Pancreas                                                                                                                                          </td><td>Pancreas                                                                                                                                          </td><td>0001150                                                                                                                                           </td><td>154                                                                                                                                               </td><td> 735                                                                                                                                              </td><td>BP-44460                                                                                                                                          </td><td>...                                                                                                                                               </td><td>15480965                                                                                                                                          </td><td>20021609                                                                                                                                          </td><td>0.005361661                                                                                                                                       </td><td>15599862                                                                                                                                          </td><td>50.19127                                                                                                                                          </td><td>0.003316094                                                                                                                                       </td><td>0.9931882                                                                                                                                         </td><td>NA                                                                                                                                                </td><td>0                                                                                                                                                 </td><td>50.07460                                                                                                                                          </td></tr>\n",
       "\t<tr><th scope=row>GTEX-1122O-0726-SM-5GIEV</th><td>1                                                                                                                                                 </td><td>B1                                                                                                                                                </td><td>2 pieces, minimal attached and internal fat                                                                                                       </td><td>6.0                                                                                                                                               </td><td>Pancreas                                                                                                                                          </td><td>Pancreas                                                                                                                                          </td><td>0001150                                                                                                                                           </td><td> 55                                                                                                                                               </td><td> 948                                                                                                                                              </td><td>BP-44261                                                                                                                                          </td><td>...                                                                                                                                               </td><td>21587613                                                                                                                                          </td><td>25147179                                                                                                                                          </td><td>0.006103872                                                                                                                                       </td><td>21545407                                                                                                                                          </td><td>49.95108                                                                                                                                          </td><td>0.002715764                                                                                                                                       </td><td>0.9938754                                                                                                                                         </td><td>NA                                                                                                                                                </td><td>0                                                                                                                                                 </td><td>50.22186                                                                                                                                          </td></tr>\n",
       "\t<tr><th scope=row>GTEX-1128S-0826-SM-5GZZI</th><td>1                                                                                                                                                 </td><td>B1                                                                                                                                                </td><td>2 pieces, up to 50% interstital fat, rep delineated; Islets well visualized, rep delineated.  Some areas approach score 2/saponification/autolysis</td><td>6.2                                                                                                                                               </td><td>Pancreas                                                                                                                                          </td><td>Pancreas                                                                                                                                          </td><td>0001150                                                                                                                                           </td><td>842                                                                                                                                               </td><td>1003                                                                                                                                              </td><td>BP-43753                                                                                                                                          </td><td>...                                                                                                                                               </td><td>18722483                                                                                                                                          </td><td>20292290                                                                                                                                          </td><td>0.005499121                                                                                                                                       </td><td>18640983                                                                                                                                          </td><td>49.89094                                                                                                                                          </td><td>0.004869585                                                                                                                                       </td><td>0.9936422                                                                                                                                         </td><td>NA                                                                                                                                                </td><td>0                                                                                                                                                 </td><td>50.14596                                                                                                                                          </td></tr>\n",
       "\t<tr><th scope=row>GTEX-117YX-0226-SM-5EGH6</th><td>1                                                                                                                                                 </td><td>B1                                                                                                                                                </td><td>2 pieces; well dissected, no fat                                                                                                                  </td><td>7.0                                                                                                                                               </td><td>Pancreas                                                                                                                                          </td><td>Pancreas                                                                                                                                          </td><td>0001150                                                                                                                                           </td><td> 80                                                                                                                                               </td><td> 726                                                                                                                                              </td><td>BP-44460                                                                                                                                          </td><td>...                                                                                                                                               </td><td>15319276                                                                                                                                          </td><td>18135569                                                                                                                                          </td><td>0.007021304                                                                                                                                       </td><td>15453346                                                                                                                                          </td><td>50.21784                                                                                                                                          </td><td>0.004131658                                                                                                                                       </td><td>0.9927996                                                                                                                                         </td><td>NA                                                                                                                                                </td><td>0                                                                                                                                                 </td><td>49.85380                                                                                                                                          </td></tr>\n",
       "\t<tr><th scope=row>GTEX-11DXX-0926-SM-5H112</th><td>1                                                                                                                                                 </td><td>B1                                                                                                                                                </td><td>2 pieces, up to 20% fat, PanIN-1B, diffuse insular amyloidosis, acinar cell nodules                                                               </td><td>7.1                                                                                                                                               </td><td>Pancreas                                                                                                                                          </td><td>Pancreas                                                                                                                                          </td><td>0001150                                                                                                                                           </td><td>100                                                                                                                                               </td><td> 513                                                                                                                                              </td><td>BP-43730                                                                                                                                          </td><td>...                                                                                                                                               </td><td>19865004                                                                                                                                          </td><td>25588787                                                                                                                                          </td><td>0.006011567                                                                                                                                       </td><td>19780381                                                                                                                                          </td><td>49.89327                                                                                                                                          </td><td>0.002427112                                                                                                                                       </td><td>0.9939556                                                                                                                                         </td><td>NA                                                                                                                                                </td><td>0                                                                                                                                                 </td><td>50.14606                                                                                                                                          </td></tr>\n",
       "</tbody>\n",
       "</table>\n"
      ],
      "text/latex": [
       "\\begin{tabular}{r|llllllllllllllllllllllllllllllllllllllllllllllllllllllllllllll}\n",
       "  & SMATSSCR & SMCENTER & SMPTHNTS & SMRIN & SMTS & SMTSD & SMUBRID & SMTSISCH & SMTSPAX & SMNABTCH & ... & SME1ANTI & SMSPLTRD & SMBSMMRT & SME1SNSE & SME1PCTS & SMRRNART & SME1MPRT & SMNUM5CD & SMDPMPRT & SME2PCTS\\\\\n",
       "\\hline\n",
       "\tGTEX-111CU-0526-SM-5EGHK & 1                                                                                                                                                    & B1                                                                                                                                                   & 2 pieces, include 20 and 40\\% fat (attached and internal)                                                                                           & 7.2                                                                                                                                                  & Pancreas                                                                                                                                             & Pancreas                                                                                                                                             & 0001150                                                                                                                                              &  72                                                                                                                                                  &  637                                                                                                                                                 & BP-43495                                                                                                                                             & ...                                                                                                                                                  & 13106749                                                                                                                                             & 15136415                                                                                                                                             & 0.008058607                                                                                                                                          & 13257128                                                                                                                                             & 50.28520                                                                                                                                             & 0.001842467                                                                                                                                          & 0.9929395                                                                                                                                            & NA                                                                                                                                                   & 0                                                                                                                                                    & 49.93632                                                                                                                                            \\\\\n",
       "\tGTEX-111YS-1226-SM-5EGGJ & 1                                                                                                                                                  & B1                                                                                                                                                 & 2 somewhat fragmented pieces                                                                                                                       & 6.8                                                                                                                                                & Pancreas                                                                                                                                           & Pancreas                                                                                                                                           & 0001150                                                                                                                                            & 154                                                                                                                                                &  735                                                                                                                                               & BP-44460                                                                                                                                           & ...                                                                                                                                                & 15480965                                                                                                                                           & 20021609                                                                                                                                           & 0.005361661                                                                                                                                        & 15599862                                                                                                                                           & 50.19127                                                                                                                                           & 0.003316094                                                                                                                                        & 0.9931882                                                                                                                                          & NA                                                                                                                                                 & 0                                                                                                                                                  & 50.07460                                                                                                                                          \\\\\n",
       "\tGTEX-1122O-0726-SM-5GIEV & 1                                                                                                                                                  & B1                                                                                                                                                 & 2 pieces, minimal attached and internal fat                                                                                                        & 6.0                                                                                                                                                & Pancreas                                                                                                                                           & Pancreas                                                                                                                                           & 0001150                                                                                                                                            &  55                                                                                                                                                &  948                                                                                                                                               & BP-44261                                                                                                                                           & ...                                                                                                                                                & 21587613                                                                                                                                           & 25147179                                                                                                                                           & 0.006103872                                                                                                                                        & 21545407                                                                                                                                           & 49.95108                                                                                                                                           & 0.002715764                                                                                                                                        & 0.9938754                                                                                                                                          & NA                                                                                                                                                 & 0                                                                                                                                                  & 50.22186                                                                                                                                          \\\\\n",
       "\tGTEX-1128S-0826-SM-5GZZI & 1                                                                                                                                                    & B1                                                                                                                                                   & 2 pieces, up to 50\\% interstital fat, rep delineated; Islets well visualized, rep delineated.  Some areas approach score 2/saponification/autolysis & 6.2                                                                                                                                                  & Pancreas                                                                                                                                             & Pancreas                                                                                                                                             & 0001150                                                                                                                                              & 842                                                                                                                                                  & 1003                                                                                                                                                 & BP-43753                                                                                                                                             & ...                                                                                                                                                  & 18722483                                                                                                                                             & 20292290                                                                                                                                             & 0.005499121                                                                                                                                          & 18640983                                                                                                                                             & 49.89094                                                                                                                                             & 0.004869585                                                                                                                                          & 0.9936422                                                                                                                                            & NA                                                                                                                                                   & 0                                                                                                                                                    & 50.14596                                                                                                                                            \\\\\n",
       "\tGTEX-117YX-0226-SM-5EGH6 & 1                                                                                                                                                  & B1                                                                                                                                                 & 2 pieces; well dissected, no fat                                                                                                                   & 7.0                                                                                                                                                & Pancreas                                                                                                                                           & Pancreas                                                                                                                                           & 0001150                                                                                                                                            &  80                                                                                                                                                &  726                                                                                                                                               & BP-44460                                                                                                                                           & ...                                                                                                                                                & 15319276                                                                                                                                           & 18135569                                                                                                                                           & 0.007021304                                                                                                                                        & 15453346                                                                                                                                           & 50.21784                                                                                                                                           & 0.004131658                                                                                                                                        & 0.9927996                                                                                                                                          & NA                                                                                                                                                 & 0                                                                                                                                                  & 49.85380                                                                                                                                          \\\\\n",
       "\tGTEX-11DXX-0926-SM-5H112 & 1                                                                                                                                                    & B1                                                                                                                                                   & 2 pieces, up to 20\\% fat, PanIN-1B, diffuse insular amyloidosis, acinar cell nodules                                                                & 7.1                                                                                                                                                  & Pancreas                                                                                                                                             & Pancreas                                                                                                                                             & 0001150                                                                                                                                              & 100                                                                                                                                                  &  513                                                                                                                                                 & BP-43730                                                                                                                                             & ...                                                                                                                                                  & 19865004                                                                                                                                             & 25588787                                                                                                                                             & 0.006011567                                                                                                                                          & 19780381                                                                                                                                             & 49.89327                                                                                                                                             & 0.002427112                                                                                                                                          & 0.9939556                                                                                                                                            & NA                                                                                                                                                   & 0                                                                                                                                                    & 50.14606                                                                                                                                            \\\\\n",
       "\\end{tabular}\n"
      ],
      "text/markdown": [
       "\n",
       "| <!--/--> | SMATSSCR | SMCENTER | SMPTHNTS | SMRIN | SMTS | SMTSD | SMUBRID | SMTSISCH | SMTSPAX | SMNABTCH | ... | SME1ANTI | SMSPLTRD | SMBSMMRT | SME1SNSE | SME1PCTS | SMRRNART | SME1MPRT | SMNUM5CD | SMDPMPRT | SME2PCTS | \n",
       "|---|---|---|---|---|---|\n",
       "| GTEX-111CU-0526-SM-5EGHK | 1                                                                                                                                                  | B1                                                                                                                                                 | 2 pieces, include 20 and 40% fat (attached and internal)                                                                                           | 7.2                                                                                                                                                | Pancreas                                                                                                                                           | Pancreas                                                                                                                                           | 0001150                                                                                                                                            |  72                                                                                                                                                |  637                                                                                                                                               | BP-43495                                                                                                                                           | ...                                                                                                                                                | 13106749                                                                                                                                           | 15136415                                                                                                                                           | 0.008058607                                                                                                                                        | 13257128                                                                                                                                           | 50.28520                                                                                                                                           | 0.001842467                                                                                                                                        | 0.9929395                                                                                                                                          | NA                                                                                                                                                 | 0                                                                                                                                                  | 49.93632                                                                                                                                           | \n",
       "| GTEX-111YS-1226-SM-5EGGJ | 1                                                                                                                                                  | B1                                                                                                                                                 | 2 somewhat fragmented pieces                                                                                                                       | 6.8                                                                                                                                                | Pancreas                                                                                                                                           | Pancreas                                                                                                                                           | 0001150                                                                                                                                            | 154                                                                                                                                                |  735                                                                                                                                               | BP-44460                                                                                                                                           | ...                                                                                                                                                | 15480965                                                                                                                                           | 20021609                                                                                                                                           | 0.005361661                                                                                                                                        | 15599862                                                                                                                                           | 50.19127                                                                                                                                           | 0.003316094                                                                                                                                        | 0.9931882                                                                                                                                          | NA                                                                                                                                                 | 0                                                                                                                                                  | 50.07460                                                                                                                                           | \n",
       "| GTEX-1122O-0726-SM-5GIEV | 1                                                                                                                                                  | B1                                                                                                                                                 | 2 pieces, minimal attached and internal fat                                                                                                        | 6.0                                                                                                                                                | Pancreas                                                                                                                                           | Pancreas                                                                                                                                           | 0001150                                                                                                                                            |  55                                                                                                                                                |  948                                                                                                                                               | BP-44261                                                                                                                                           | ...                                                                                                                                                | 21587613                                                                                                                                           | 25147179                                                                                                                                           | 0.006103872                                                                                                                                        | 21545407                                                                                                                                           | 49.95108                                                                                                                                           | 0.002715764                                                                                                                                        | 0.9938754                                                                                                                                          | NA                                                                                                                                                 | 0                                                                                                                                                  | 50.22186                                                                                                                                           | \n",
       "| GTEX-1128S-0826-SM-5GZZI | 1                                                                                                                                                  | B1                                                                                                                                                 | 2 pieces, up to 50% interstital fat, rep delineated; Islets well visualized, rep delineated.  Some areas approach score 2/saponification/autolysis | 6.2                                                                                                                                                | Pancreas                                                                                                                                           | Pancreas                                                                                                                                           | 0001150                                                                                                                                            | 842                                                                                                                                                | 1003                                                                                                                                               | BP-43753                                                                                                                                           | ...                                                                                                                                                | 18722483                                                                                                                                           | 20292290                                                                                                                                           | 0.005499121                                                                                                                                        | 18640983                                                                                                                                           | 49.89094                                                                                                                                           | 0.004869585                                                                                                                                        | 0.9936422                                                                                                                                          | NA                                                                                                                                                 | 0                                                                                                                                                  | 50.14596                                                                                                                                           | \n",
       "| GTEX-117YX-0226-SM-5EGH6 | 1                                                                                                                                                  | B1                                                                                                                                                 | 2 pieces; well dissected, no fat                                                                                                                   | 7.0                                                                                                                                                | Pancreas                                                                                                                                           | Pancreas                                                                                                                                           | 0001150                                                                                                                                            |  80                                                                                                                                                |  726                                                                                                                                               | BP-44460                                                                                                                                           | ...                                                                                                                                                | 15319276                                                                                                                                           | 18135569                                                                                                                                           | 0.007021304                                                                                                                                        | 15453346                                                                                                                                           | 50.21784                                                                                                                                           | 0.004131658                                                                                                                                        | 0.9927996                                                                                                                                          | NA                                                                                                                                                 | 0                                                                                                                                                  | 49.85380                                                                                                                                           | \n",
       "| GTEX-11DXX-0926-SM-5H112 | 1                                                                                                                                                  | B1                                                                                                                                                 | 2 pieces, up to 20% fat, PanIN-1B, diffuse insular amyloidosis, acinar cell nodules                                                                | 7.1                                                                                                                                                | Pancreas                                                                                                                                           | Pancreas                                                                                                                                           | 0001150                                                                                                                                            | 100                                                                                                                                                |  513                                                                                                                                               | BP-43730                                                                                                                                           | ...                                                                                                                                                | 19865004                                                                                                                                           | 25588787                                                                                                                                           | 0.006011567                                                                                                                                        | 19780381                                                                                                                                           | 49.89327                                                                                                                                           | 0.002427112                                                                                                                                        | 0.9939556                                                                                                                                          | NA                                                                                                                                                 | 0                                                                                                                                                  | 50.14606                                                                                                                                           | \n",
       "\n",
       "\n"
      ],
      "text/plain": [
       "                         SMATSSCR SMCENTER\n",
       "GTEX-111CU-0526-SM-5EGHK 1        B1      \n",
       "GTEX-111YS-1226-SM-5EGGJ 1        B1      \n",
       "GTEX-1122O-0726-SM-5GIEV 1        B1      \n",
       "GTEX-1128S-0826-SM-5GZZI 1        B1      \n",
       "GTEX-117YX-0226-SM-5EGH6 1        B1      \n",
       "GTEX-11DXX-0926-SM-5H112 1        B1      \n",
       "                         SMPTHNTS                                                                                                                                          \n",
       "GTEX-111CU-0526-SM-5EGHK 2 pieces, include 20 and 40% fat (attached and internal)                                                                                          \n",
       "GTEX-111YS-1226-SM-5EGGJ 2 somewhat fragmented pieces                                                                                                                      \n",
       "GTEX-1122O-0726-SM-5GIEV 2 pieces, minimal attached and internal fat                                                                                                       \n",
       "GTEX-1128S-0826-SM-5GZZI 2 pieces, up to 50% interstital fat, rep delineated; Islets well visualized, rep delineated.  Some areas approach score 2/saponification/autolysis\n",
       "GTEX-117YX-0226-SM-5EGH6 2 pieces; well dissected, no fat                                                                                                                  \n",
       "GTEX-11DXX-0926-SM-5H112 2 pieces, up to 20% fat, PanIN-1B, diffuse insular amyloidosis, acinar cell nodules                                                               \n",
       "                         SMRIN SMTS     SMTSD    SMUBRID SMTSISCH SMTSPAX\n",
       "GTEX-111CU-0526-SM-5EGHK 7.2   Pancreas Pancreas 0001150  72       637   \n",
       "GTEX-111YS-1226-SM-5EGGJ 6.8   Pancreas Pancreas 0001150 154       735   \n",
       "GTEX-1122O-0726-SM-5GIEV 6.0   Pancreas Pancreas 0001150  55       948   \n",
       "GTEX-1128S-0826-SM-5GZZI 6.2   Pancreas Pancreas 0001150 842      1003   \n",
       "GTEX-117YX-0226-SM-5EGH6 7.0   Pancreas Pancreas 0001150  80       726   \n",
       "GTEX-11DXX-0926-SM-5H112 7.1   Pancreas Pancreas 0001150 100       513   \n",
       "                         SMNABTCH ... SME1ANTI SMSPLTRD SMBSMMRT    SME1SNSE\n",
       "GTEX-111CU-0526-SM-5EGHK BP-43495 ... 13106749 15136415 0.008058607 13257128\n",
       "GTEX-111YS-1226-SM-5EGGJ BP-44460 ... 15480965 20021609 0.005361661 15599862\n",
       "GTEX-1122O-0726-SM-5GIEV BP-44261 ... 21587613 25147179 0.006103872 21545407\n",
       "GTEX-1128S-0826-SM-5GZZI BP-43753 ... 18722483 20292290 0.005499121 18640983\n",
       "GTEX-117YX-0226-SM-5EGH6 BP-44460 ... 15319276 18135569 0.007021304 15453346\n",
       "GTEX-11DXX-0926-SM-5H112 BP-43730 ... 19865004 25588787 0.006011567 19780381\n",
       "                         SME1PCTS SMRRNART    SME1MPRT  SMNUM5CD SMDPMPRT\n",
       "GTEX-111CU-0526-SM-5EGHK 50.28520 0.001842467 0.9929395 NA       0       \n",
       "GTEX-111YS-1226-SM-5EGGJ 50.19127 0.003316094 0.9931882 NA       0       \n",
       "GTEX-1122O-0726-SM-5GIEV 49.95108 0.002715764 0.9938754 NA       0       \n",
       "GTEX-1128S-0826-SM-5GZZI 49.89094 0.004869585 0.9936422 NA       0       \n",
       "GTEX-117YX-0226-SM-5EGH6 50.21784 0.004131658 0.9927996 NA       0       \n",
       "GTEX-11DXX-0926-SM-5H112 49.89327 0.002427112 0.9939556 NA       0       \n",
       "                         SME2PCTS\n",
       "GTEX-111CU-0526-SM-5EGHK 49.93632\n",
       "GTEX-111YS-1226-SM-5EGGJ 50.07460\n",
       "GTEX-1122O-0726-SM-5GIEV 50.22186\n",
       "GTEX-1128S-0826-SM-5GZZI 50.14596\n",
       "GTEX-117YX-0226-SM-5EGH6 49.85380\n",
       "GTEX-11DXX-0926-SM-5H112 50.14606"
      ]
     },
     "metadata": {},
     "output_type": "display_data"
    }
   ],
   "source": [
    "pancreas.sample.df = rnaseq.sample.df[rnaseq.sample.df['SMTSD']=='Pancreas', ]\n",
    "head(pancreas.sample.df)"
   ]
  },
  {
   "cell_type": "markdown",
   "metadata": {},
   "source": [
    "All GTEx samples are indexed using the same identifier format. Importantly, the first two components of a *sample ID* correspond to the *donor ID* for that sample. For example, to obtain the donor IDs corresponding to the samples selected above:"
   ]
  },
  {
   "cell_type": "code",
   "execution_count": 10,
   "metadata": {},
   "outputs": [
    {
     "data": {
      "text/html": [
       "<ol class=list-inline>\n",
       "\t<li>'GTEX-111CU-0526-SM-5EGHK'</li>\n",
       "\t<li>'GTEX-111YS-1226-SM-5EGGJ'</li>\n",
       "\t<li>'GTEX-1122O-0726-SM-5GIEV'</li>\n",
       "</ol>\n"
      ],
      "text/latex": [
       "\\begin{enumerate*}\n",
       "\\item 'GTEX-111CU-0526-SM-5EGHK'\n",
       "\\item 'GTEX-111YS-1226-SM-5EGGJ'\n",
       "\\item 'GTEX-1122O-0726-SM-5GIEV'\n",
       "\\end{enumerate*}\n"
      ],
      "text/markdown": [
       "1. 'GTEX-111CU-0526-SM-5EGHK'\n",
       "2. 'GTEX-111YS-1226-SM-5EGGJ'\n",
       "3. 'GTEX-1122O-0726-SM-5GIEV'\n",
       "\n",
       "\n"
      ],
      "text/plain": [
       "[1] \"GTEX-111CU-0526-SM-5EGHK\" \"GTEX-111YS-1226-SM-5EGGJ\"\n",
       "[3] \"GTEX-1122O-0726-SM-5GIEV\""
      ]
     },
     "metadata": {},
     "output_type": "display_data"
    }
   ],
   "source": [
    "rownames(pancreas.sample.df)[1:3]  # show the first 3 sample IDs"
   ]
  },
  {
   "cell_type": "markdown",
   "metadata": {},
   "source": [
    "run the following:"
   ]
  },
  {
   "cell_type": "code",
   "execution_count": 11,
   "metadata": {},
   "outputs": [
    {
     "data": {
      "text/html": [
       "<ol class=list-inline>\n",
       "\t<li>'GTEX-111CU'</li>\n",
       "\t<li>'GTEX-111YS'</li>\n",
       "\t<li>'GTEX-1122O'</li>\n",
       "</ol>\n"
      ],
      "text/latex": [
       "\\begin{enumerate*}\n",
       "\\item 'GTEX-111CU'\n",
       "\\item 'GTEX-111YS'\n",
       "\\item 'GTEX-1122O'\n",
       "\\end{enumerate*}\n"
      ],
      "text/markdown": [
       "1. 'GTEX-111CU'\n",
       "2. 'GTEX-111YS'\n",
       "3. 'GTEX-1122O'\n",
       "\n",
       "\n"
      ],
      "text/plain": [
       "[1] \"GTEX-111CU\" \"GTEX-111YS\" \"GTEX-1122O\""
      ]
     },
     "metadata": {},
     "output_type": "display_data"
    }
   ],
   "source": [
    "donor.ids <- unlist(lapply(strsplit(rownames(pancreas.sample.df), '-'), FUN=function(x){paste(x[1],x[2],sep=\"-\")}))\n",
    "donor.ids[1:3]  # show the first 3 donor IDs"
   ]
  },
  {
   "cell_type": "markdown",
   "metadata": {},
   "source": [
    "Samples can then be split by donor attribute as follows:"
   ]
  },
  {
   "cell_type": "code",
   "execution_count": 12,
   "metadata": {},
   "outputs": [],
   "source": [
    "pancreas.male.df = pancreas.sample.df[subject.df[donor.ids, 'SEX']==1, ]  # males are encoded as 1\n",
    "pancreas.female.df = pancreas.sample.df[subject.df[donor.ids, 'SEX']==2, ]  # females are encoded as 2"
   ]
  },
  {
   "cell_type": "markdown",
   "metadata": {},
   "source": [
    "### Loading expression data\n",
    "Next, after having selected a specific set of samples, we show how to load the expression data corresponding to these samples. Gene-level expression is provided as raw read counts and in TPM (transcripts per million); here we will use the TPM data. Both tables are in GCT format, which contains two rows of header data. The first two columns contain the gene ID and gene name; since gene names are not unique, **all GTEx tables are indexed by GENCODE/ENSEMBL gene ID**."
   ]
  },
  {
   "cell_type": "code",
   "execution_count": 13,
   "metadata": {},
   "outputs": [
    {
     "name": "stdout",
     "output_type": "stream",
     "text": [
      "Number of genes in table:  56202"
     ]
    }
   ],
   "source": [
    "tpm.df <- read.delim(\"data/GTEx_Analysis_2016-01-15_v7_RNASeQCv1.1.8_gene_tpm.Pancreas.gct.gz\",\n",
    "                     as.is=T, row.names=1, check.names=FALSE, skip=2)\n",
    "gene.names.df <- tpm.df[, 'Description', drop=FALSE]\n",
    "tpm.df <- tpm.df[, !(names(tpm.df) %in% c('Description'))]\n",
    "\n",
    "cat(paste(\"Number of genes in table: \", dim(tpm.df)[1]))"
   ]
  },
  {
   "cell_type": "markdown",
   "metadata": {},
   "source": [
    "The table contains data for all genes in the reference annotation:"
   ]
  },
  {
   "cell_type": "code",
   "execution_count": 14,
   "metadata": {},
   "outputs": [
    {
     "data": {
      "text/html": [
       "<table>\n",
       "<thead><tr><th></th><th scope=col>GTEX-111CU-0526-SM-5EGHK</th><th scope=col>GTEX-111YS-1226-SM-5EGGJ</th><th scope=col>GTEX-1122O-0726-SM-5GIEV</th><th scope=col>GTEX-1128S-0826-SM-5GZZI</th><th scope=col>GTEX-117YX-0226-SM-5EGH6</th><th scope=col>GTEX-11DXX-0926-SM-5H112</th><th scope=col>GTEX-11EQ9-1026-SM-5H134</th><th scope=col>GTEX-11GSP-0426-SM-5A5KX</th><th scope=col>GTEX-11I78-0626-SM-5A5LZ</th><th scope=col>GTEX-11LCK-0226-SM-5A5M6</th><th scope=col>...</th><th scope=col>GTEX-ZT9W-0926-SM-57WFS</th><th scope=col>GTEX-ZTPG-1026-SM-5DUWP</th><th scope=col>GTEX-ZV7C-0726-SM-59HKH</th><th scope=col>GTEX-ZVP2-0726-SM-59HKY</th><th scope=col>GTEX-ZVT2-2026-SM-5NQ8Q</th><th scope=col>GTEX-ZVZP-0626-SM-59HL5</th><th scope=col>GTEX-ZYFG-0826-SM-5BC5T</th><th scope=col>GTEX-ZYW4-2126-SM-59HJ9</th><th scope=col>GTEX-ZYY3-0826-SM-5E44R</th><th scope=col>GTEX-ZZPU-0726-SM-5N9C8</th></tr></thead>\n",
       "<tbody>\n",
       "\t<tr><th scope=row>ENSG00000223972.4</th><td>0.0000 </td><td>0.05460</td><td>0.04141</td><td>0.06778</td><td>0.03802</td><td>0.03170</td><td>0.01529</td><td>0.06213</td><td>0.03664</td><td>0.01931</td><td>...    </td><td>0.01598</td><td>0.01906</td><td>0.06286</td><td>0.10340</td><td>0.04275</td><td>0.03054</td><td>0.07476</td><td>0.10820</td><td>0.09764</td><td>0.03772</td></tr>\n",
       "\t<tr><th scope=row>ENSG00000227232.4</th><td>3.0770 </td><td>3.01700</td><td>5.28200</td><td>7.54500</td><td>3.42600</td><td>4.56800</td><td>4.84700</td><td>1.78200</td><td>3.65500</td><td>4.05800</td><td>...    </td><td>3.91200</td><td>9.07500</td><td>6.90700</td><td>6.47800</td><td>4.18200</td><td>6.32800</td><td>5.20600</td><td>5.59100</td><td>6.64400</td><td>7.34400</td></tr>\n",
       "\t<tr><th scope=row>ENSG00000243485.2</th><td>0.1564 </td><td>0.12130</td><td>0.00000</td><td>0.03764</td><td>0.04222</td><td>0.03521</td><td>0.03396</td><td>0.10350</td><td>0.08139</td><td>0.00000</td><td>...    </td><td>0.03549</td><td>0.12700</td><td>0.03491</td><td>0.09188</td><td>0.18990</td><td>0.06783</td><td>0.16610</td><td>0.04808</td><td>0.04338</td><td>0.00000</td></tr>\n",
       "\t<tr><th scope=row>ENSG00000237613.2</th><td>0.0000 </td><td>0.00000</td><td>0.01932</td><td>0.00000</td><td>0.02660</td><td>0.00000</td><td>0.04279</td><td>0.00000</td><td>0.12820</td><td>0.02703</td><td>...    </td><td>0.00000</td><td>0.02667</td><td>0.00000</td><td>0.05789</td><td>0.00000</td><td>0.06411</td><td>0.07847</td><td>0.00000</td><td>0.00000</td><td>0.02640</td></tr>\n",
       "\t<tr><th scope=row>ENSG00000268020.2</th><td>0.0000 </td><td>0.00000</td><td>0.00000</td><td>0.06105</td><td>0.00000</td><td>0.00000</td><td>0.05507</td><td>0.00000</td><td>0.00000</td><td>0.00000</td><td>...    </td><td>0.00000</td><td>0.03434</td><td>0.02831</td><td>0.03726</td><td>0.00000</td><td>0.00000</td><td>0.00000</td><td>0.00000</td><td>0.03518</td><td>0.00000</td></tr>\n",
       "\t<tr><th scope=row>ENSG00000240361.1</th><td>0.0426 </td><td>0.03303</td><td>0.02505</td><td>0.03075</td><td>0.00000</td><td>0.00000</td><td>0.00000</td><td>0.00000</td><td>0.00000</td><td>0.00000</td><td>...    </td><td>0.00000</td><td>0.03459</td><td>0.02852</td><td>0.00000</td><td>0.00000</td><td>0.02771</td><td>0.13570</td><td>0.03928</td><td>0.00000</td><td>0.00000</td></tr>\n",
       "</tbody>\n",
       "</table>\n"
      ],
      "text/latex": [
       "\\begin{tabular}{r|llllllllllllllllllllllllllllllllllllllllllllllllllllllllllllllllllllllllllllllllllllllllllllllllllllllllllllllllllllllllllllllllllllllllllllllllllllllllllllllllllllllllllllllllllllllllllllllllllllllllllllllllllllllllllllllllllllllllllllllllllllllll}\n",
       "  & GTEX-111CU-0526-SM-5EGHK & GTEX-111YS-1226-SM-5EGGJ & GTEX-1122O-0726-SM-5GIEV & GTEX-1128S-0826-SM-5GZZI & GTEX-117YX-0226-SM-5EGH6 & GTEX-11DXX-0926-SM-5H112 & GTEX-11EQ9-1026-SM-5H134 & GTEX-11GSP-0426-SM-5A5KX & GTEX-11I78-0626-SM-5A5LZ & GTEX-11LCK-0226-SM-5A5M6 & ... & GTEX-ZT9W-0926-SM-57WFS & GTEX-ZTPG-1026-SM-5DUWP & GTEX-ZV7C-0726-SM-59HKH & GTEX-ZVP2-0726-SM-59HKY & GTEX-ZVT2-2026-SM-5NQ8Q & GTEX-ZVZP-0626-SM-59HL5 & GTEX-ZYFG-0826-SM-5BC5T & GTEX-ZYW4-2126-SM-59HJ9 & GTEX-ZYY3-0826-SM-5E44R & GTEX-ZZPU-0726-SM-5N9C8\\\\\n",
       "\\hline\n",
       "\tENSG00000223972.4 & 0.0000  & 0.05460 & 0.04141 & 0.06778 & 0.03802 & 0.03170 & 0.01529 & 0.06213 & 0.03664 & 0.01931 & ...     & 0.01598 & 0.01906 & 0.06286 & 0.10340 & 0.04275 & 0.03054 & 0.07476 & 0.10820 & 0.09764 & 0.03772\\\\\n",
       "\tENSG00000227232.4 & 3.0770  & 3.01700 & 5.28200 & 7.54500 & 3.42600 & 4.56800 & 4.84700 & 1.78200 & 3.65500 & 4.05800 & ...     & 3.91200 & 9.07500 & 6.90700 & 6.47800 & 4.18200 & 6.32800 & 5.20600 & 5.59100 & 6.64400 & 7.34400\\\\\n",
       "\tENSG00000243485.2 & 0.1564  & 0.12130 & 0.00000 & 0.03764 & 0.04222 & 0.03521 & 0.03396 & 0.10350 & 0.08139 & 0.00000 & ...     & 0.03549 & 0.12700 & 0.03491 & 0.09188 & 0.18990 & 0.06783 & 0.16610 & 0.04808 & 0.04338 & 0.00000\\\\\n",
       "\tENSG00000237613.2 & 0.0000  & 0.00000 & 0.01932 & 0.00000 & 0.02660 & 0.00000 & 0.04279 & 0.00000 & 0.12820 & 0.02703 & ...     & 0.00000 & 0.02667 & 0.00000 & 0.05789 & 0.00000 & 0.06411 & 0.07847 & 0.00000 & 0.00000 & 0.02640\\\\\n",
       "\tENSG00000268020.2 & 0.0000  & 0.00000 & 0.00000 & 0.06105 & 0.00000 & 0.00000 & 0.05507 & 0.00000 & 0.00000 & 0.00000 & ...     & 0.00000 & 0.03434 & 0.02831 & 0.03726 & 0.00000 & 0.00000 & 0.00000 & 0.00000 & 0.03518 & 0.00000\\\\\n",
       "\tENSG00000240361.1 & 0.0426  & 0.03303 & 0.02505 & 0.03075 & 0.00000 & 0.00000 & 0.00000 & 0.00000 & 0.00000 & 0.00000 & ...     & 0.00000 & 0.03459 & 0.02852 & 0.00000 & 0.00000 & 0.02771 & 0.13570 & 0.03928 & 0.00000 & 0.00000\\\\\n",
       "\\end{tabular}\n"
      ],
      "text/markdown": [
       "\n",
       "| <!--/--> | GTEX-111CU-0526-SM-5EGHK | GTEX-111YS-1226-SM-5EGGJ | GTEX-1122O-0726-SM-5GIEV | GTEX-1128S-0826-SM-5GZZI | GTEX-117YX-0226-SM-5EGH6 | GTEX-11DXX-0926-SM-5H112 | GTEX-11EQ9-1026-SM-5H134 | GTEX-11GSP-0426-SM-5A5KX | GTEX-11I78-0626-SM-5A5LZ | GTEX-11LCK-0226-SM-5A5M6 | ... | GTEX-ZT9W-0926-SM-57WFS | GTEX-ZTPG-1026-SM-5DUWP | GTEX-ZV7C-0726-SM-59HKH | GTEX-ZVP2-0726-SM-59HKY | GTEX-ZVT2-2026-SM-5NQ8Q | GTEX-ZVZP-0626-SM-59HL5 | GTEX-ZYFG-0826-SM-5BC5T | GTEX-ZYW4-2126-SM-59HJ9 | GTEX-ZYY3-0826-SM-5E44R | GTEX-ZZPU-0726-SM-5N9C8 | \n",
       "|---|---|---|---|---|---|\n",
       "| ENSG00000223972.4 | 0.0000  | 0.05460 | 0.04141 | 0.06778 | 0.03802 | 0.03170 | 0.01529 | 0.06213 | 0.03664 | 0.01931 | ...     | 0.01598 | 0.01906 | 0.06286 | 0.10340 | 0.04275 | 0.03054 | 0.07476 | 0.10820 | 0.09764 | 0.03772 | \n",
       "| ENSG00000227232.4 | 3.0770  | 3.01700 | 5.28200 | 7.54500 | 3.42600 | 4.56800 | 4.84700 | 1.78200 | 3.65500 | 4.05800 | ...     | 3.91200 | 9.07500 | 6.90700 | 6.47800 | 4.18200 | 6.32800 | 5.20600 | 5.59100 | 6.64400 | 7.34400 | \n",
       "| ENSG00000243485.2 | 0.1564  | 0.12130 | 0.00000 | 0.03764 | 0.04222 | 0.03521 | 0.03396 | 0.10350 | 0.08139 | 0.00000 | ...     | 0.03549 | 0.12700 | 0.03491 | 0.09188 | 0.18990 | 0.06783 | 0.16610 | 0.04808 | 0.04338 | 0.00000 | \n",
       "| ENSG00000237613.2 | 0.0000  | 0.00000 | 0.01932 | 0.00000 | 0.02660 | 0.00000 | 0.04279 | 0.00000 | 0.12820 | 0.02703 | ...     | 0.00000 | 0.02667 | 0.00000 | 0.05789 | 0.00000 | 0.06411 | 0.07847 | 0.00000 | 0.00000 | 0.02640 | \n",
       "| ENSG00000268020.2 | 0.0000  | 0.00000 | 0.00000 | 0.06105 | 0.00000 | 0.00000 | 0.05507 | 0.00000 | 0.00000 | 0.00000 | ...     | 0.00000 | 0.03434 | 0.02831 | 0.03726 | 0.00000 | 0.00000 | 0.00000 | 0.00000 | 0.03518 | 0.00000 | \n",
       "| ENSG00000240361.1 | 0.0426  | 0.03303 | 0.02505 | 0.03075 | 0.00000 | 0.00000 | 0.00000 | 0.00000 | 0.00000 | 0.00000 | ...     | 0.00000 | 0.03459 | 0.02852 | 0.00000 | 0.00000 | 0.02771 | 0.13570 | 0.03928 | 0.00000 | 0.00000 | \n",
       "\n",
       "\n"
      ],
      "text/plain": [
       "                  GTEX-111CU-0526-SM-5EGHK GTEX-111YS-1226-SM-5EGGJ\n",
       "ENSG00000223972.4 0.0000                   0.05460                 \n",
       "ENSG00000227232.4 3.0770                   3.01700                 \n",
       "ENSG00000243485.2 0.1564                   0.12130                 \n",
       "ENSG00000237613.2 0.0000                   0.00000                 \n",
       "ENSG00000268020.2 0.0000                   0.00000                 \n",
       "ENSG00000240361.1 0.0426                   0.03303                 \n",
       "                  GTEX-1122O-0726-SM-5GIEV GTEX-1128S-0826-SM-5GZZI\n",
       "ENSG00000223972.4 0.04141                  0.06778                 \n",
       "ENSG00000227232.4 5.28200                  7.54500                 \n",
       "ENSG00000243485.2 0.00000                  0.03764                 \n",
       "ENSG00000237613.2 0.01932                  0.00000                 \n",
       "ENSG00000268020.2 0.00000                  0.06105                 \n",
       "ENSG00000240361.1 0.02505                  0.03075                 \n",
       "                  GTEX-117YX-0226-SM-5EGH6 GTEX-11DXX-0926-SM-5H112\n",
       "ENSG00000223972.4 0.03802                  0.03170                 \n",
       "ENSG00000227232.4 3.42600                  4.56800                 \n",
       "ENSG00000243485.2 0.04222                  0.03521                 \n",
       "ENSG00000237613.2 0.02660                  0.00000                 \n",
       "ENSG00000268020.2 0.00000                  0.00000                 \n",
       "ENSG00000240361.1 0.00000                  0.00000                 \n",
       "                  GTEX-11EQ9-1026-SM-5H134 GTEX-11GSP-0426-SM-5A5KX\n",
       "ENSG00000223972.4 0.01529                  0.06213                 \n",
       "ENSG00000227232.4 4.84700                  1.78200                 \n",
       "ENSG00000243485.2 0.03396                  0.10350                 \n",
       "ENSG00000237613.2 0.04279                  0.00000                 \n",
       "ENSG00000268020.2 0.05507                  0.00000                 \n",
       "ENSG00000240361.1 0.00000                  0.00000                 \n",
       "                  GTEX-11I78-0626-SM-5A5LZ GTEX-11LCK-0226-SM-5A5M6 ...\n",
       "ENSG00000223972.4 0.03664                  0.01931                  ...\n",
       "ENSG00000227232.4 3.65500                  4.05800                  ...\n",
       "ENSG00000243485.2 0.08139                  0.00000                  ...\n",
       "ENSG00000237613.2 0.12820                  0.02703                  ...\n",
       "ENSG00000268020.2 0.00000                  0.00000                  ...\n",
       "ENSG00000240361.1 0.00000                  0.00000                  ...\n",
       "                  GTEX-ZT9W-0926-SM-57WFS GTEX-ZTPG-1026-SM-5DUWP\n",
       "ENSG00000223972.4 0.01598                 0.01906                \n",
       "ENSG00000227232.4 3.91200                 9.07500                \n",
       "ENSG00000243485.2 0.03549                 0.12700                \n",
       "ENSG00000237613.2 0.00000                 0.02667                \n",
       "ENSG00000268020.2 0.00000                 0.03434                \n",
       "ENSG00000240361.1 0.00000                 0.03459                \n",
       "                  GTEX-ZV7C-0726-SM-59HKH GTEX-ZVP2-0726-SM-59HKY\n",
       "ENSG00000223972.4 0.06286                 0.10340                \n",
       "ENSG00000227232.4 6.90700                 6.47800                \n",
       "ENSG00000243485.2 0.03491                 0.09188                \n",
       "ENSG00000237613.2 0.00000                 0.05789                \n",
       "ENSG00000268020.2 0.02831                 0.03726                \n",
       "ENSG00000240361.1 0.02852                 0.00000                \n",
       "                  GTEX-ZVT2-2026-SM-5NQ8Q GTEX-ZVZP-0626-SM-59HL5\n",
       "ENSG00000223972.4 0.04275                 0.03054                \n",
       "ENSG00000227232.4 4.18200                 6.32800                \n",
       "ENSG00000243485.2 0.18990                 0.06783                \n",
       "ENSG00000237613.2 0.00000                 0.06411                \n",
       "ENSG00000268020.2 0.00000                 0.00000                \n",
       "ENSG00000240361.1 0.00000                 0.02771                \n",
       "                  GTEX-ZYFG-0826-SM-5BC5T GTEX-ZYW4-2126-SM-59HJ9\n",
       "ENSG00000223972.4 0.07476                 0.10820                \n",
       "ENSG00000227232.4 5.20600                 5.59100                \n",
       "ENSG00000243485.2 0.16610                 0.04808                \n",
       "ENSG00000237613.2 0.07847                 0.00000                \n",
       "ENSG00000268020.2 0.00000                 0.00000                \n",
       "ENSG00000240361.1 0.13570                 0.03928                \n",
       "                  GTEX-ZYY3-0826-SM-5E44R GTEX-ZZPU-0726-SM-5N9C8\n",
       "ENSG00000223972.4 0.09764                 0.03772                \n",
       "ENSG00000227232.4 6.64400                 7.34400                \n",
       "ENSG00000243485.2 0.04338                 0.00000                \n",
       "ENSG00000237613.2 0.00000                 0.02640                \n",
       "ENSG00000268020.2 0.03518                 0.00000                \n",
       "ENSG00000240361.1 0.00000                 0.00000                "
      ]
     },
     "metadata": {},
     "output_type": "display_data"
    }
   ],
   "source": [
    "head(tpm.df)"
   ]
  },
  {
   "cell_type": "markdown",
   "metadata": {},
   "source": [
    "The expression of a specific gene can then be queried as"
   ]
  },
  {
   "cell_type": "code",
   "execution_count": 15,
   "metadata": {},
   "outputs": [],
   "source": [
    "g <- tpm.df['ENSG00000254647.2', ]"
   ]
  },
  {
   "cell_type": "markdown",
   "metadata": {},
   "source": [
    "To facilitate queries by gene name (as long as this is unique), a gene name &rarr; ID mapping can be constructed as follows. In the GCT tables, _Name_ contains the GENCODE ID, and _Description_ the gene name."
   ]
  },
  {
   "cell_type": "code",
   "execution_count": 16,
   "metadata": {},
   "outputs": [
    {
     "data": {
      "text/html": [
       "'ENSG00000254647.2'"
      ],
      "text/latex": [
       "'ENSG00000254647.2'"
      ],
      "text/markdown": [
       "'ENSG00000254647.2'"
      ],
      "text/plain": [
       "[1] \"ENSG00000254647.2\""
      ]
     },
     "metadata": {},
     "output_type": "display_data"
    }
   ],
   "source": [
    "name.to.id <- hashmap(gene.names.df[,'Description'], rownames(gene.names.df))\n",
    "id.to.name <- hashmap(rownames(gene.names.df), gene.names.df[,'Description'])\n",
    "name.to.id[['INS']]"
   ]
  },
  {
   "cell_type": "code",
   "execution_count": 17,
   "metadata": {},
   "outputs": [
    {
     "data": {
      "text/html": [
       "<table>\n",
       "<thead><tr><th></th><th scope=col>ENSG00000254647.2</th></tr></thead>\n",
       "<tbody>\n",
       "\t<tr><th scope=row>GTEX-111CU-0526-SM-5EGHK</th><td>1432.0</td></tr>\n",
       "\t<tr><th scope=row>GTEX-111YS-1226-SM-5EGGJ</th><td>1317.0</td></tr>\n",
       "\t<tr><th scope=row>GTEX-1122O-0726-SM-5GIEV</th><td>1190.0</td></tr>\n",
       "\t<tr><th scope=row>GTEX-1128S-0826-SM-5GZZI</th><td>3515.0</td></tr>\n",
       "\t<tr><th scope=row>GTEX-117YX-0226-SM-5EGH6</th><td>2810.0</td></tr>\n",
       "\t<tr><th scope=row>GTEX-11DXX-0926-SM-5H112</th><td> 635.0</td></tr>\n",
       "\t<tr><th scope=row>GTEX-11EQ9-1026-SM-5H134</th><td>2744.0</td></tr>\n",
       "\t<tr><th scope=row>GTEX-11GSP-0426-SM-5A5KX</th><td> 434.5</td></tr>\n",
       "\t<tr><th scope=row>GTEX-11I78-0626-SM-5A5LZ</th><td>9137.0</td></tr>\n",
       "\t<tr><th scope=row>GTEX-11LCK-0226-SM-5A5M6</th><td>3038.0</td></tr>\n",
       "</tbody>\n",
       "</table>\n"
      ],
      "text/latex": [
       "\\begin{tabular}{r|l}\n",
       "  & ENSG00000254647.2\\\\\n",
       "\\hline\n",
       "\tGTEX-111CU-0526-SM-5EGHK & 1432.0\\\\\n",
       "\tGTEX-111YS-1226-SM-5EGGJ & 1317.0\\\\\n",
       "\tGTEX-1122O-0726-SM-5GIEV & 1190.0\\\\\n",
       "\tGTEX-1128S-0826-SM-5GZZI & 3515.0\\\\\n",
       "\tGTEX-117YX-0226-SM-5EGH6 & 2810.0\\\\\n",
       "\tGTEX-11DXX-0926-SM-5H112 &  635.0\\\\\n",
       "\tGTEX-11EQ9-1026-SM-5H134 & 2744.0\\\\\n",
       "\tGTEX-11GSP-0426-SM-5A5KX &  434.5\\\\\n",
       "\tGTEX-11I78-0626-SM-5A5LZ & 9137.0\\\\\n",
       "\tGTEX-11LCK-0226-SM-5A5M6 & 3038.0\\\\\n",
       "\\end{tabular}\n"
      ],
      "text/markdown": [
       "\n",
       "| <!--/--> | ENSG00000254647.2 | \n",
       "|---|---|---|---|---|---|---|---|---|---|\n",
       "| GTEX-111CU-0526-SM-5EGHK | 1432.0 | \n",
       "| GTEX-111YS-1226-SM-5EGGJ | 1317.0 | \n",
       "| GTEX-1122O-0726-SM-5GIEV | 1190.0 | \n",
       "| GTEX-1128S-0826-SM-5GZZI | 3515.0 | \n",
       "| GTEX-117YX-0226-SM-5EGH6 | 2810.0 | \n",
       "| GTEX-11DXX-0926-SM-5H112 |  635.0 | \n",
       "| GTEX-11EQ9-1026-SM-5H134 | 2744.0 | \n",
       "| GTEX-11GSP-0426-SM-5A5KX |  434.5 | \n",
       "| GTEX-11I78-0626-SM-5A5LZ | 9137.0 | \n",
       "| GTEX-11LCK-0226-SM-5A5M6 | 3038.0 | \n",
       "\n",
       "\n"
      ],
      "text/plain": [
       "                         ENSG00000254647.2\n",
       "GTEX-111CU-0526-SM-5EGHK 1432.0           \n",
       "GTEX-111YS-1226-SM-5EGGJ 1317.0           \n",
       "GTEX-1122O-0726-SM-5GIEV 1190.0           \n",
       "GTEX-1128S-0826-SM-5GZZI 3515.0           \n",
       "GTEX-117YX-0226-SM-5EGH6 2810.0           \n",
       "GTEX-11DXX-0926-SM-5H112  635.0           \n",
       "GTEX-11EQ9-1026-SM-5H134 2744.0           \n",
       "GTEX-11GSP-0426-SM-5A5KX  434.5           \n",
       "GTEX-11I78-0626-SM-5A5LZ 9137.0           \n",
       "GTEX-11LCK-0226-SM-5A5M6 3038.0           "
      ]
     },
     "metadata": {},
     "output_type": "display_data"
    }
   ],
   "source": [
    "g <- t(tpm.df[name.to.id[['INS']],])\n",
    "head(g, 10)"
   ]
  },
  {
   "cell_type": "markdown",
   "metadata": {},
   "source": [
    "Working with dataframes provides many useful functionalities. For example, the median expression across a set of samples can be simply calculated as"
   ]
  },
  {
   "cell_type": "code",
   "execution_count": 18,
   "metadata": {},
   "outputs": [
    {
     "data": {
      "text/html": [
       "<dl class=dl-horizontal>\n",
       "\t<dt>ENSG00000223972.4</dt>\n",
       "\t\t<dd>0.027255</dd>\n",
       "\t<dt>ENSG00000227232.4</dt>\n",
       "\t\t<dd>5.553</dd>\n",
       "\t<dt>ENSG00000243485.2</dt>\n",
       "\t\t<dd>0.034055</dd>\n",
       "\t<dt>ENSG00000237613.2</dt>\n",
       "\t\t<dd>0.022915</dd>\n",
       "\t<dt>ENSG00000268020.2</dt>\n",
       "\t\t<dd>0</dd>\n",
       "\t<dt>ENSG00000240361.1</dt>\n",
       "\t\t<dd>0</dd>\n",
       "</dl>\n"
      ],
      "text/latex": [
       "\\begin{description*}\n",
       "\\item[ENSG00000223972.4] 0.027255\n",
       "\\item[ENSG00000227232.4] 5.553\n",
       "\\item[ENSG00000243485.2] 0.034055\n",
       "\\item[ENSG00000237613.2] 0.022915\n",
       "\\item[ENSG00000268020.2] 0\n",
       "\\item[ENSG00000240361.1] 0\n",
       "\\end{description*}\n"
      ],
      "text/markdown": [
       "ENSG00000223972.4\n",
       ":   0.027255ENSG00000227232.4\n",
       ":   5.553ENSG00000243485.2\n",
       ":   0.034055ENSG00000237613.2\n",
       ":   0.022915ENSG00000268020.2\n",
       ":   0ENSG00000240361.1\n",
       ":   0\n",
       "\n"
      ],
      "text/plain": [
       "ENSG00000223972.4 ENSG00000227232.4 ENSG00000243485.2 ENSG00000237613.2 \n",
       "         0.027255          5.553000          0.034055          0.022915 \n",
       "ENSG00000268020.2 ENSG00000240361.1 \n",
       "         0.000000          0.000000 "
      ]
     },
     "metadata": {},
     "output_type": "display_data"
    }
   ],
   "source": [
    "median.expr <- apply(tpm.df, 1, median)\n",
    "head(median.expr)"
   ]
  },
  {
   "cell_type": "markdown",
   "metadata": {},
   "source": [
    "and the median expression for a specific gene can then be queried as"
   ]
  },
  {
   "cell_type": "code",
   "execution_count": 19,
   "metadata": {},
   "outputs": [
    {
     "data": {
      "text/html": [
       "<strong>ENSG00000254647.2:</strong> 2338"
      ],
      "text/latex": [
       "\\textbf{ENSG00000254647.2:} 2338"
      ],
      "text/markdown": [
       "**ENSG00000254647.2:** 2338"
      ],
      "text/plain": [
       "ENSG00000254647.2 \n",
       "             2338 "
      ]
     },
     "metadata": {},
     "output_type": "display_data"
    }
   ],
   "source": [
    "median.expr[name.to.id[['INS']]]"
   ]
  },
  {
   "cell_type": "markdown",
   "metadata": {},
   "source": [
    "### Overview of the cis-eQTL data\n",
    "In this section, we provide an overview of the cis-eQTL data. This consists of the following set of files (available from the GTEx Portal), for each tissue:\n",
    "* Gene/eGene summary statistics<br>(files ending in *.egenes.txt.gz)\n",
    "* The list of all significant variant-gene associations found in a tissue<br>(files ending in *.signif_variant_gene_pairs.txt.gz)\n",
    "* The association results for all variant-gene pairs tested in a tissue<br>(files ending in *.allpairs.txt.gz)\n",
    "\n",
    "Additionally, all input files used for eQTL mapping are available from the Portal, including normalized expression and covariates (both described in the tutorial).\n",
    "\n",
    "Here, we will focus on the eGene summary and significant pair tables.\n",
    "\n",
    "Begin by loading the gene summary table:"
   ]
  },
  {
   "cell_type": "code",
   "execution_count": 20,
   "metadata": {},
   "outputs": [],
   "source": [
    "gene.df = read.delim('data/Pancreas.v7.egenes.txt.gz', as.is=TRUE, header=TRUE, row.names=1)"
   ]
  },
  {
   "cell_type": "markdown",
   "metadata": {},
   "source": [
    "To view the different columns available in this table, inspect a specific row:"
   ]
  },
  {
   "cell_type": "code",
   "execution_count": 21,
   "metadata": {},
   "outputs": [
    {
     "data": {
      "text/html": [
       "<table>\n",
       "<thead><tr><th></th><th scope=col>ENSG00000254647.2</th></tr></thead>\n",
       "<tbody>\n",
       "\t<tr><th scope=row>gene_name</th><td>INS               </td></tr>\n",
       "\t<tr><th scope=row>gene_chr</th><td>11                </td></tr>\n",
       "\t<tr><th scope=row>gene_start</th><td>2181009           </td></tr>\n",
       "\t<tr><th scope=row>gene_end</th><td>2182571           </td></tr>\n",
       "\t<tr><th scope=row>strand</th><td>-                 </td></tr>\n",
       "\t<tr><th scope=row>num_var</th><td>9167              </td></tr>\n",
       "\t<tr><th scope=row>beta_shape1</th><td>1.04048           </td></tr>\n",
       "\t<tr><th scope=row>beta_shape2</th><td>1457.85           </td></tr>\n",
       "\t<tr><th scope=row>true_df</th><td>163.574           </td></tr>\n",
       "\t<tr><th scope=row>pval_true_df</th><td>0.000846469       </td></tr>\n",
       "\t<tr><th scope=row>variant_id</th><td>11_2310683_G_A_b37</td></tr>\n",
       "\t<tr><th scope=row>tss_distance</th><td>128112            </td></tr>\n",
       "\t<tr><th scope=row>chr</th><td>11                </td></tr>\n",
       "\t<tr><th scope=row>pos</th><td>2310683           </td></tr>\n",
       "\t<tr><th scope=row>ref</th><td>G                 </td></tr>\n",
       "\t<tr><th scope=row>alt</th><td>A                 </td></tr>\n",
       "\t<tr><th scope=row>num_alt_per_site</th><td>1                 </td></tr>\n",
       "\t<tr><th scope=row>rs_id_dbSNP147_GRCh37p13</th><td>rs117595442       </td></tr>\n",
       "\t<tr><th scope=row>minor_allele_samples</th><td>11                </td></tr>\n",
       "\t<tr><th scope=row>minor_allele_count</th><td>11                </td></tr>\n",
       "\t<tr><th scope=row>maf</th><td>0.025             </td></tr>\n",
       "\t<tr><th scope=row>ref_factor</th><td>1                 </td></tr>\n",
       "\t<tr><th scope=row>pval_nominal</th><td>0.000415083       </td></tr>\n",
       "\t<tr><th scope=row>slope</th><td>-0.567289         </td></tr>\n",
       "\t<tr><th scope=row>slope_se</th><td>0.157741          </td></tr>\n",
       "\t<tr><th scope=row>pval_perm</th><td>0.697075          </td></tr>\n",
       "\t<tr><th scope=row>pval_beta</th><td>0.693643          </td></tr>\n",
       "\t<tr><th scope=row>qval</th><td>0.331348          </td></tr>\n",
       "\t<tr><th scope=row>pval_nominal_threshold</th><td>1.62118e-05       </td></tr>\n",
       "</tbody>\n",
       "</table>\n"
      ],
      "text/latex": [
       "\\begin{tabular}{r|l}\n",
       "  & ENSG00000254647.2\\\\\n",
       "\\hline\n",
       "\tgene\\_name & INS               \\\\\n",
       "\tgene\\_chr & 11                \\\\\n",
       "\tgene\\_start & 2181009           \\\\\n",
       "\tgene\\_end & 2182571           \\\\\n",
       "\tstrand & -                 \\\\\n",
       "\tnum\\_var & 9167              \\\\\n",
       "\tbeta\\_shape1 & 1.04048           \\\\\n",
       "\tbeta\\_shape2 & 1457.85           \\\\\n",
       "\ttrue\\_df & 163.574           \\\\\n",
       "\tpval\\_true\\_df & 0.000846469       \\\\\n",
       "\tvariant\\_id & 11\\_2310683\\_G\\_A\\_b37\\\\\n",
       "\ttss\\_distance & 128112            \\\\\n",
       "\tchr & 11                \\\\\n",
       "\tpos & 2310683           \\\\\n",
       "\tref & G                 \\\\\n",
       "\talt & A                 \\\\\n",
       "\tnum\\_alt\\_per\\_site & 1                 \\\\\n",
       "\trs\\_id\\_dbSNP147\\_GRCh37p13 & rs117595442       \\\\\n",
       "\tminor\\_allele\\_samples & 11                \\\\\n",
       "\tminor\\_allele\\_count & 11                \\\\\n",
       "\tmaf & 0.025             \\\\\n",
       "\tref\\_factor & 1                 \\\\\n",
       "\tpval\\_nominal & 0.000415083       \\\\\n",
       "\tslope & -0.567289         \\\\\n",
       "\tslope\\_se & 0.157741          \\\\\n",
       "\tpval\\_perm & 0.697075          \\\\\n",
       "\tpval\\_beta & 0.693643          \\\\\n",
       "\tqval & 0.331348          \\\\\n",
       "\tpval\\_nominal\\_threshold & 1.62118e-05       \\\\\n",
       "\\end{tabular}\n"
      ],
      "text/markdown": [
       "\n",
       "| <!--/--> | ENSG00000254647.2 | \n",
       "|---|---|---|---|---|---|---|---|---|---|---|---|---|---|---|---|---|---|---|---|---|---|---|---|---|---|---|---|---|\n",
       "| gene_name | INS                | \n",
       "| gene_chr | 11                 | \n",
       "| gene_start | 2181009            | \n",
       "| gene_end | 2182571            | \n",
       "| strand | -                  | \n",
       "| num_var | 9167               | \n",
       "| beta_shape1 | 1.04048            | \n",
       "| beta_shape2 | 1457.85            | \n",
       "| true_df | 163.574            | \n",
       "| pval_true_df | 0.000846469        | \n",
       "| variant_id | 11_2310683_G_A_b37 | \n",
       "| tss_distance | 128112             | \n",
       "| chr | 11                 | \n",
       "| pos | 2310683            | \n",
       "| ref | G                  | \n",
       "| alt | A                  | \n",
       "| num_alt_per_site | 1                  | \n",
       "| rs_id_dbSNP147_GRCh37p13 | rs117595442        | \n",
       "| minor_allele_samples | 11                 | \n",
       "| minor_allele_count | 11                 | \n",
       "| maf | 0.025              | \n",
       "| ref_factor | 1                  | \n",
       "| pval_nominal | 0.000415083        | \n",
       "| slope | -0.567289          | \n",
       "| slope_se | 0.157741           | \n",
       "| pval_perm | 0.697075           | \n",
       "| pval_beta | 0.693643           | \n",
       "| qval | 0.331348           | \n",
       "| pval_nominal_threshold | 1.62118e-05        | \n",
       "\n",
       "\n"
      ],
      "text/plain": [
       "                         ENSG00000254647.2 \n",
       "gene_name                INS               \n",
       "gene_chr                 11                \n",
       "gene_start               2181009           \n",
       "gene_end                 2182571           \n",
       "strand                   -                 \n",
       "num_var                  9167              \n",
       "beta_shape1              1.04048           \n",
       "beta_shape2              1457.85           \n",
       "true_df                  163.574           \n",
       "pval_true_df             0.000846469       \n",
       "variant_id               11_2310683_G_A_b37\n",
       "tss_distance             128112            \n",
       "chr                      11                \n",
       "pos                      2310683           \n",
       "ref                      G                 \n",
       "alt                      A                 \n",
       "num_alt_per_site         1                 \n",
       "rs_id_dbSNP147_GRCh37p13 rs117595442       \n",
       "minor_allele_samples     11                \n",
       "minor_allele_count       11                \n",
       "maf                      0.025             \n",
       "ref_factor               1                 \n",
       "pval_nominal             0.000415083       \n",
       "slope                    -0.567289         \n",
       "slope_se                 0.157741          \n",
       "pval_perm                0.697075          \n",
       "pval_beta                0.693643          \n",
       "qval                     0.331348          \n",
       "pval_nominal_threshold   1.62118e-05       "
      ]
     },
     "metadata": {},
     "output_type": "display_data"
    }
   ],
   "source": [
    "t(gene.df[name.to.id[['INS']], ])"
   ]
  },
  {
   "cell_type": "markdown",
   "metadata": {},
   "source": [
    "As this example shows, the table contains data for all genes, not just eGenes. To select eGenes at FDR ≤ 0.05, corresponding to the set used in GTEx Consortium analyses, run:"
   ]
  },
  {
   "cell_type": "code",
   "execution_count": 22,
   "metadata": {},
   "outputs": [
    {
     "name": "stdout",
     "output_type": "stream",
     "text": [
      "Number of eGenes:  7146"
     ]
    }
   ],
   "source": [
    "egenes.df = gene.df[gene.df['qval']<=0.05, ]\n",
    "cat(paste('Number of eGenes: ', dim(egenes.df)[1]))"
   ]
  },
  {
   "cell_type": "markdown",
   "metadata": {},
   "source": [
    "As a toy example, we'll next show how to extract all significant variant-gene pairs corresponding to the eGene with the strongest association in Pancreas."
   ]
  },
  {
   "cell_type": "code",
   "execution_count": 23,
   "metadata": {},
   "outputs": [
    {
     "data": {
      "text/html": [
       "<table>\n",
       "<thead><tr><th></th><th scope=col>variant_id</th><th scope=col>pval_nominal</th></tr></thead>\n",
       "<tbody>\n",
       "\t<tr><th scope=row>ENSG00000197728.5</th><td>12_56435929_C_G_b37</td><td>3.24344e-97        </td></tr>\n",
       "\t<tr><th scope=row>ENSG00000013573.12</th><td>12_31225344_A_G_b37</td><td>1.06518e-93        </td></tr>\n",
       "\t<tr><th scope=row>ENSG00000166435.11</th><td>11_74659302_A_T_b37</td><td>4.15005e-84        </td></tr>\n",
       "\t<tr><th scope=row>ENSG00000174652.13</th><td>19_9517537_C_G_b37 </td><td>1.26526e-82        </td></tr>\n",
       "\t<tr><th scope=row>ENSG00000204792.2</th><td>2_75185856_G_T_b37 </td><td>5.73833e-80        </td></tr>\n",
       "\t<tr><th scope=row>ENSG00000164308.12</th><td>5_96252589_T_C_b37 </td><td>1.50095e-79        </td></tr>\n",
       "</tbody>\n",
       "</table>\n"
      ],
      "text/latex": [
       "\\begin{tabular}{r|ll}\n",
       "  & variant\\_id & pval\\_nominal\\\\\n",
       "\\hline\n",
       "\tENSG00000197728.5 & 12\\_56435929\\_C\\_G\\_b37 & 3.24344e-97                \\\\\n",
       "\tENSG00000013573.12 & 12\\_31225344\\_A\\_G\\_b37 & 1.06518e-93                \\\\\n",
       "\tENSG00000166435.11 & 11\\_74659302\\_A\\_T\\_b37 & 4.15005e-84                \\\\\n",
       "\tENSG00000174652.13 & 19\\_9517537\\_C\\_G\\_b37  & 1.26526e-82                \\\\\n",
       "\tENSG00000204792.2 & 2\\_75185856\\_G\\_T\\_b37  & 5.73833e-80                \\\\\n",
       "\tENSG00000164308.12 & 5\\_96252589\\_T\\_C\\_b37  & 1.50095e-79                \\\\\n",
       "\\end{tabular}\n"
      ],
      "text/markdown": [
       "\n",
       "| <!--/--> | variant_id | pval_nominal | \n",
       "|---|---|---|---|---|---|\n",
       "| ENSG00000197728.5 | 12_56435929_C_G_b37 | 3.24344e-97         | \n",
       "| ENSG00000013573.12 | 12_31225344_A_G_b37 | 1.06518e-93         | \n",
       "| ENSG00000166435.11 | 11_74659302_A_T_b37 | 4.15005e-84         | \n",
       "| ENSG00000174652.13 | 19_9517537_C_G_b37  | 1.26526e-82         | \n",
       "| ENSG00000204792.2 | 2_75185856_G_T_b37  | 5.73833e-80         | \n",
       "| ENSG00000164308.12 | 5_96252589_T_C_b37  | 1.50095e-79         | \n",
       "\n",
       "\n"
      ],
      "text/plain": [
       "                   variant_id          pval_nominal\n",
       "ENSG00000197728.5  12_56435929_C_G_b37 3.24344e-97 \n",
       "ENSG00000013573.12 12_31225344_A_G_b37 1.06518e-93 \n",
       "ENSG00000166435.11 11_74659302_A_T_b37 4.15005e-84 \n",
       "ENSG00000174652.13 19_9517537_C_G_b37  1.26526e-82 \n",
       "ENSG00000204792.2  2_75185856_G_T_b37  5.73833e-80 \n",
       "ENSG00000164308.12 5_96252589_T_C_b37  1.50095e-79 "
      ]
     },
     "metadata": {},
     "output_type": "display_data"
    }
   ],
   "source": [
    "head(egenes.df[order(egenes.df['pval_nominal']), c('variant_id', 'pval_nominal')])"
   ]
  },
  {
   "cell_type": "markdown",
   "metadata": {},
   "source": [
    "Load the association results for all significant variant-gene pairs:"
   ]
  },
  {
   "cell_type": "code",
   "execution_count": 24,
   "metadata": {},
   "outputs": [],
   "source": [
    "pairs.df <- read.delim('data/Pancreas.v7.signif_variant_gene_pairs.txt.gz', as.is=TRUE, header=TRUE)"
   ]
  },
  {
   "cell_type": "markdown",
   "metadata": {},
   "source": [
    "Then, select the pairs corresponding to the top gene:"
   ]
  },
  {
   "cell_type": "code",
   "execution_count": 25,
   "metadata": {},
   "outputs": [],
   "source": [
    "selected.pairs.df <- pairs.df[pairs.df['gene_id']=='ENSG00000197728.5', ]"
   ]
  },
  {
   "cell_type": "code",
   "execution_count": 26,
   "metadata": {},
   "outputs": [
    {
     "data": {
      "text/html": [
       "<table>\n",
       "<thead><tr><th></th><th scope=col>variant_id</th><th scope=col>gene_id</th><th scope=col>tss_distance</th><th scope=col>ma_samples</th><th scope=col>ma_count</th><th scope=col>maf</th><th scope=col>pval_nominal</th><th scope=col>slope</th><th scope=col>slope_se</th><th scope=col>pval_nominal_threshold</th><th scope=col>min_pval_nominal</th><th scope=col>pval_beta</th></tr></thead>\n",
       "<tbody>\n",
       "\t<tr><th scope=row>486741</th><td>12_56271219_T_A_b37</td><td>ENSG00000197728.5  </td><td>-164418            </td><td> 42                </td><td> 42                </td><td>0.0954545          </td><td>2.49133e-05        </td><td>-0.687914          </td><td>0.1590120          </td><td>4.13171e-05        </td><td>3.24344e-97        </td><td>9.64438e-89        </td></tr>\n",
       "\t<tr><th scope=row>486742</th><td>12_56354272_G_C_b37</td><td>ENSG00000197728.5  </td><td> -81365            </td><td>115                </td><td>140                </td><td>0.3317540          </td><td>8.26861e-14        </td><td> 0.681209          </td><td>0.0842585          </td><td>4.13171e-05        </td><td>3.24344e-97        </td><td>9.64438e-89        </td></tr>\n",
       "\t<tr><th scope=row>486743</th><td>12_56364321_A_G_b37</td><td>ENSG00000197728.5  </td><td> -71316            </td><td>122                </td><td>149                </td><td>0.3417430          </td><td>1.42473e-17        </td><td> 0.721492          </td><td>0.0761725          </td><td>4.13171e-05        </td><td>3.24344e-97        </td><td>9.64438e-89        </td></tr>\n",
       "\t<tr><th scope=row>486744</th><td>12_56366160_G_C_b37</td><td>ENSG00000197728.5  </td><td> -69477            </td><td> 48                </td><td> 54                </td><td>0.1232880          </td><td>2.00943e-05        </td><td> 0.580996          </td><td>0.1327020          </td><td>4.13171e-05        </td><td>3.24344e-97        </td><td>9.64438e-89        </td></tr>\n",
       "\t<tr><th scope=row>486745</th><td>12_56367966_C_T_b37</td><td>ENSG00000197728.5  </td><td> -67671            </td><td> 40                </td><td> 45                </td><td>0.1027400          </td><td>1.17099e-05        </td><td>-0.577004          </td><td>0.1280260          </td><td>4.13171e-05        </td><td>3.24344e-97        </td><td>9.64438e-89        </td></tr>\n",
       "\t<tr><th scope=row>486746</th><td>12_56368078_G_A_b37</td><td>ENSG00000197728.5  </td><td> -67559            </td><td>130                </td><td>161                </td><td>0.3659090          </td><td>1.05239e-27        </td><td>-0.865084          </td><td>0.0667007          </td><td>4.13171e-05        </td><td>3.24344e-97        </td><td>9.64438e-89        </td></tr>\n",
       "</tbody>\n",
       "</table>\n"
      ],
      "text/latex": [
       "\\begin{tabular}{r|llllllllllll}\n",
       "  & variant\\_id & gene\\_id & tss\\_distance & ma\\_samples & ma\\_count & maf & pval\\_nominal & slope & slope\\_se & pval\\_nominal\\_threshold & min\\_pval\\_nominal & pval\\_beta\\\\\n",
       "\\hline\n",
       "\t486741 & 12\\_56271219\\_T\\_A\\_b37 & ENSG00000197728.5           & -164418                     &  42                         &  42                         & 0.0954545                   & 2.49133e-05                 & -0.687914                   & 0.1590120                   & 4.13171e-05                 & 3.24344e-97                 & 9.64438e-89                \\\\\n",
       "\t486742 & 12\\_56354272\\_G\\_C\\_b37 & ENSG00000197728.5           &  -81365                     & 115                         & 140                         & 0.3317540                   & 8.26861e-14                 &  0.681209                   & 0.0842585                   & 4.13171e-05                 & 3.24344e-97                 & 9.64438e-89                \\\\\n",
       "\t486743 & 12\\_56364321\\_A\\_G\\_b37 & ENSG00000197728.5           &  -71316                     & 122                         & 149                         & 0.3417430                   & 1.42473e-17                 &  0.721492                   & 0.0761725                   & 4.13171e-05                 & 3.24344e-97                 & 9.64438e-89                \\\\\n",
       "\t486744 & 12\\_56366160\\_G\\_C\\_b37 & ENSG00000197728.5           &  -69477                     &  48                         &  54                         & 0.1232880                   & 2.00943e-05                 &  0.580996                   & 0.1327020                   & 4.13171e-05                 & 3.24344e-97                 & 9.64438e-89                \\\\\n",
       "\t486745 & 12\\_56367966\\_C\\_T\\_b37 & ENSG00000197728.5           &  -67671                     &  40                         &  45                         & 0.1027400                   & 1.17099e-05                 & -0.577004                   & 0.1280260                   & 4.13171e-05                 & 3.24344e-97                 & 9.64438e-89                \\\\\n",
       "\t486746 & 12\\_56368078\\_G\\_A\\_b37 & ENSG00000197728.5           &  -67559                     & 130                         & 161                         & 0.3659090                   & 1.05239e-27                 & -0.865084                   & 0.0667007                   & 4.13171e-05                 & 3.24344e-97                 & 9.64438e-89                \\\\\n",
       "\\end{tabular}\n"
      ],
      "text/markdown": [
       "\n",
       "| <!--/--> | variant_id | gene_id | tss_distance | ma_samples | ma_count | maf | pval_nominal | slope | slope_se | pval_nominal_threshold | min_pval_nominal | pval_beta | \n",
       "|---|---|---|---|---|---|\n",
       "| 486741 | 12_56271219_T_A_b37 | ENSG00000197728.5   | -164418             |  42                 |  42                 | 0.0954545           | 2.49133e-05         | -0.687914           | 0.1590120           | 4.13171e-05         | 3.24344e-97         | 9.64438e-89         | \n",
       "| 486742 | 12_56354272_G_C_b37 | ENSG00000197728.5   |  -81365             | 115                 | 140                 | 0.3317540           | 8.26861e-14         |  0.681209           | 0.0842585           | 4.13171e-05         | 3.24344e-97         | 9.64438e-89         | \n",
       "| 486743 | 12_56364321_A_G_b37 | ENSG00000197728.5   |  -71316             | 122                 | 149                 | 0.3417430           | 1.42473e-17         |  0.721492           | 0.0761725           | 4.13171e-05         | 3.24344e-97         | 9.64438e-89         | \n",
       "| 486744 | 12_56366160_G_C_b37 | ENSG00000197728.5   |  -69477             |  48                 |  54                 | 0.1232880           | 2.00943e-05         |  0.580996           | 0.1327020           | 4.13171e-05         | 3.24344e-97         | 9.64438e-89         | \n",
       "| 486745 | 12_56367966_C_T_b37 | ENSG00000197728.5   |  -67671             |  40                 |  45                 | 0.1027400           | 1.17099e-05         | -0.577004           | 0.1280260           | 4.13171e-05         | 3.24344e-97         | 9.64438e-89         | \n",
       "| 486746 | 12_56368078_G_A_b37 | ENSG00000197728.5   |  -67559             | 130                 | 161                 | 0.3659090           | 1.05239e-27         | -0.865084           | 0.0667007           | 4.13171e-05         | 3.24344e-97         | 9.64438e-89         | \n",
       "\n",
       "\n"
      ],
      "text/plain": [
       "       variant_id          gene_id           tss_distance ma_samples ma_count\n",
       "486741 12_56271219_T_A_b37 ENSG00000197728.5 -164418       42         42     \n",
       "486742 12_56354272_G_C_b37 ENSG00000197728.5  -81365      115        140     \n",
       "486743 12_56364321_A_G_b37 ENSG00000197728.5  -71316      122        149     \n",
       "486744 12_56366160_G_C_b37 ENSG00000197728.5  -69477       48         54     \n",
       "486745 12_56367966_C_T_b37 ENSG00000197728.5  -67671       40         45     \n",
       "486746 12_56368078_G_A_b37 ENSG00000197728.5  -67559      130        161     \n",
       "       maf       pval_nominal slope     slope_se  pval_nominal_threshold\n",
       "486741 0.0954545 2.49133e-05  -0.687914 0.1590120 4.13171e-05           \n",
       "486742 0.3317540 8.26861e-14   0.681209 0.0842585 4.13171e-05           \n",
       "486743 0.3417430 1.42473e-17   0.721492 0.0761725 4.13171e-05           \n",
       "486744 0.1232880 2.00943e-05   0.580996 0.1327020 4.13171e-05           \n",
       "486745 0.1027400 1.17099e-05  -0.577004 0.1280260 4.13171e-05           \n",
       "486746 0.3659090 1.05239e-27  -0.865084 0.0667007 4.13171e-05           \n",
       "       min_pval_nominal pval_beta  \n",
       "486741 3.24344e-97      9.64438e-89\n",
       "486742 3.24344e-97      9.64438e-89\n",
       "486743 3.24344e-97      9.64438e-89\n",
       "486744 3.24344e-97      9.64438e-89\n",
       "486745 3.24344e-97      9.64438e-89\n",
       "486746 3.24344e-97      9.64438e-89"
      ]
     },
     "metadata": {},
     "output_type": "display_data"
    }
   ],
   "source": [
    "head(selected.pairs.df)"
   ]
  },
  {
   "cell_type": "code",
   "execution_count": 27,
   "metadata": {},
   "outputs": [
    {
     "name": "stdout",
     "output_type": "stream",
     "text": [
      "Significant variant-gene pairs for gene RPS26: 155"
     ]
    }
   ],
   "source": [
    "cat(paste0('Significant variant-gene pairs for gene ',\n",
    "          id.to.name[['ENSG00000197728.5']], ': ', dim(selected.pairs.df)[1]))"
   ]
  }
 ],
 "metadata": {
  "kernelspec": {
   "display_name": "R",
   "language": "R",
   "name": "ir"
  },
  "language_info": {
   "codemirror_mode": "r",
   "file_extension": ".r",
   "mimetype": "text/x-r-source",
   "name": "R",
   "pygments_lexer": "r",
   "version": "3.4.0"
  }
 },
 "nbformat": 4,
 "nbformat_minor": 2
}
